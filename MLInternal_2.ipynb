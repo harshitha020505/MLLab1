{
  "nbformat": 4,
  "nbformat_minor": 0,
  "metadata": {
    "colab": {
      "private_outputs": true,
      "provenance": [],
      "authorship_tag": "ABX9TyPk2VHvulcCEu83i77vOyo2",
      "include_colab_link": true
    },
    "kernelspec": {
      "name": "python3",
      "display_name": "Python 3"
    },
    "language_info": {
      "name": "python"
    }
  },
  "cells": [
    {
      "cell_type": "markdown",
      "metadata": {
        "id": "view-in-github",
        "colab_type": "text"
      },
      "source": [
        "<a href=\"https://colab.research.google.com/github/harshitha020505/MLLab1/blob/main/MLInternal_2.ipynb\" target=\"_parent\"><img src=\"https://colab.research.google.com/assets/colab-badge.svg\" alt=\"Open In Colab\"/></a>"
      ]
    },
    {
      "cell_type": "code",
      "execution_count": null,
      "metadata": {
        "id": "rmJM-ekSlt4R"
      },
      "outputs": [],
      "source": [
        "#16 simple perceptron\n",
        "import numpy as np\n",
        "def sigmoid(x):\n",
        "  return 1/(1+np.exp(-x));\n",
        "class neuron:\n",
        "  def __init__(self,weights,bias):\n",
        "    self.weights=weights\n",
        "    self.bias=bias\n",
        "  def feedforward(self,inputs):\n",
        "    self.inputs=inputs\n",
        "    output=np.dot(self.weights,self.inputs)+self.bias\n",
        "    return sigmoid(output)\n",
        "weights=[0,1]\n",
        "bias=4\n",
        "n=neuron(weights,bias)\n",
        "inputs=[2,3]\n",
        "print(n.feedforward(inputs))"
      ]
    }
  ]
}