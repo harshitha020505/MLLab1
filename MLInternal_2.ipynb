{
  "nbformat": 4,
  "nbformat_minor": 0,
  "metadata": {
    "colab": {
      "private_outputs": true,
      "provenance": [],
      "authorship_tag": "ABX9TyPtqV3z+CRHaBiQo/PBBuFK",
      "include_colab_link": true
    },
    "kernelspec": {
      "name": "python3",
      "display_name": "Python 3"
    },
    "language_info": {
      "name": "python"
    }
  },
  "cells": [
    {
      "cell_type": "markdown",
      "metadata": {
        "id": "view-in-github",
        "colab_type": "text"
      },
      "source": [
        "<a href=\"https://colab.research.google.com/github/harshitha020505/MLLab1/blob/main/MLInternal_2.ipynb\" target=\"_parent\"><img src=\"https://colab.research.google.com/assets/colab-badge.svg\" alt=\"Open In Colab\"/></a>"
      ]
    },
    {
      "cell_type": "code",
      "execution_count": null,
      "metadata": {
        "id": "rmJM-ekSlt4R"
      },
      "outputs": [],
      "source": [
        "#16 simple perceptron(with sigmoid)\n",
        "import numpy as np\n",
        "def sigmoid(x):\n",
        "  return 1/(1+np.exp(-x));\n",
        "class neuron:\n",
        "  def __init__(self,weights,bias):\n",
        "    self.weights=weights\n",
        "    self.bias=bias\n",
        "  def feedforward(self,inputs):\n",
        "    self.inputs=inputs\n",
        "    output=np.dot(self.weights,self.inputs)+self.bias\n",
        "    return sigmoid(output)\n",
        "weights=[0,1]\n",
        "bias=4\n",
        "n=neuron(weights,bias)\n",
        "inputs=[2,3]\n",
        "print(n.feedforward(inputs))"
      ]
    },
    {
      "cell_type": "code",
      "source": [
        "#15 simple perceptron(step function)\n",
        "import numpy as np\n",
        "def step_function(x):\n",
        "  return 1 if x>=0 else 0\n",
        "class neuron:\n",
        "  def __init__(self,weights,bias):\n",
        "    self.weights=weights\n",
        "    self.bias=bias\n",
        "  def feedforward(self,inputs):\n",
        "    self.inputs=inputs\n",
        "    output=np.dot(self.weights,self.inputs)+self.bias\n",
        "    return step_function(output)\n",
        "weghts=[0,1]\n",
        "bias=4\n",
        "n=neuron(weights,bias)\n",
        "inputs=[2,3]\n",
        "print(n.feedforward(inputs))\n"
      ],
      "metadata": {
        "id": "mJ2BtNWSnuJe"
      },
      "execution_count": null,
      "outputs": []
    },
    {
      "cell_type": "code",
      "source": [
        "#13 MLP on MNIST Dataset\n",
        "import numpy as np\n",
        "import sklearn.datasets as skl_data\n",
        "from sklearn.model_selection import train_test_split\n",
        "from sklearn.neural_network import MLPClassifier\n",
        "data,labels=skl_data.fetch_openml('mnist_784',return_X_y=True,as_frame=False)\n",
        "labels=labels.astype(int)\n",
        "data=data/255.0\n",
        "X_train,X_test,y_train,y_test=train_test_split(data,labels,test_size=0.2,random_state=42)\n",
        "print(X_train.shape)\n",
        "print(X_test.shape)\n",
        "mlp=MLPClassifier(hidden_layer_sizes=(175,),max_iter=200,verbose=1,random_state=42)\n",
        "mlp.fit(X_train,y_train)\n",
        "pred=mlp.predict(X_test)\n",
        "print(mlp.score(X_train,y_train))\n",
        "print(mlp.score(X_test,y_test))\n",
        "index=345\n",
        "a=X_test[index].reshape(1,784)\n",
        "pred=mlp.predict(a)[0]\n",
        "print(pred)\n",
        "print(y_test[index])\n"
      ],
      "metadata": {
        "id": "GuOAPQiGwUNf"
      },
      "execution_count": null,
      "outputs": []
    },
    {
      "cell_type": "code",
      "source": [
        "#13 MLP with diff no. of neurons\n",
        "import numpy as np\n",
        "import sklearn.datasets as skl_data\n",
        "from sklearn.model_selection import train_test_split\n",
        "from sklearn.neural_network import MLPClassifier\n",
        "data,labels=skl_data.fetch_openml('mnist_784',return_X_y=True)\n",
        "labels=labels.astype(int)\n",
        "data=data/255.0\n",
        "X_train,X_test,y_train,y_test=train_test_split(data,labels,test_size=0.2,random_state=42)\n",
        "neuron=[50,100,150,200]\n",
        "train_accuracies=[]\n",
        "test_accuracies=[]\n",
        "for n in neuron:\n",
        "  mlp=MLPClassifier(hidden_layer_sizes=(n,),max_iter=200,verbose=1,random_state=42)\n",
        "  mlp.fit(X_train,y_train)\n",
        "  train_acc=mlp.score(X_train,y_train)\n",
        "  test_acc=mlp.score(X_test,y_test)\n",
        "  train_accuracies.append(train_acc)\n",
        "  test_accuracies.append(test_acc)\n",
        "  print(train_acc)\n",
        "  print(test_acc)\n",
        "\n",
        "print(train_accuracies)\n",
        "print(test_accuracies)"
      ],
      "metadata": {
        "id": "XU-EGMNPICsX"
      },
      "execution_count": null,
      "outputs": []
    },
    {
      "cell_type": "code",
      "source": [
        "#12  And and OR gates\n",
        "import numpy as np\n",
        "def step_function(X):\n",
        "  return 1 if(X>=0) else 0\n",
        "class Perceptron:\n",
        "  def __init__(self,learning_rate,epochs):\n",
        "    self.lr=learning_rate\n",
        "    self.epochs=epochs\n",
        "    self.weights=None\n",
        "    self.bias=None\n",
        "  def fit(self,X,y):\n",
        "    n_samples,n_features=X.shape\n",
        "    self.weights=np.zeros(n_features)\n",
        "    self.bias=0\n",
        "    for _ in range(self.epochs):\n",
        "      for i in range(n_samples):\n",
        "        output=np.dot(X[i],self.weights)+self.bias\n",
        "        y_pred=step_function(output)\n",
        "        error=y[i]-y_pred\n",
        "        self.weights+=self.lr*error*X[i]\n",
        "        self.bias+=self.lr*error\n",
        "  def predict(self,X):\n",
        "    output=np.dot(X,self.weights)+self.bias\n",
        "    y_predict=np.where(output>=0,1,0)\n",
        "    return y_predict"
      ],
      "metadata": {
        "id": "bEGZYvXoE7Sf"
      },
      "execution_count": null,
      "outputs": []
    },
    {
      "cell_type": "code",
      "source": [
        "# AND gate\n",
        "X=np.array([[0,0],[0,1],[1,0],[1,1]])\n",
        "y=np.array([0,0,0,1])\n",
        "p=Perceptron(0.1,10)\n",
        "p.fit(X,y)\n",
        "o=p.predict(X)\n",
        "print(o)\n",
        "print(p.weights)\n",
        "print(p.bias)"
      ],
      "metadata": {
        "id": "6_p4irFkJTAL"
      },
      "execution_count": null,
      "outputs": []
    },
    {
      "cell_type": "code",
      "source": [
        "# OR gate\n",
        "X=np.array([[0,0],[0,1],[1,0],[1,1]])\n",
        "y=np.array([0,1,1,1])\n",
        "p=Perceptron(0.1,10)\n",
        "p.fit(X,y)\n",
        "o=p.predict(X)\n",
        "print(o)\n",
        "print(p.weights)\n",
        "print(p.bias)"
      ],
      "metadata": {
        "id": "OZGXn5ymKuH5"
      },
      "execution_count": null,
      "outputs": []
    },
    {
      "cell_type": "code",
      "source": [
        "# XOR gate\n",
        "X=np.array([[0,0],[0,1],[1,0],[1,1]])\n",
        "y=np.array([0,1,1,0])\n",
        "p=Perceptron(0.1,10)\n",
        "p.fit(X,y)\n",
        "o=p.predict(X)\n",
        "print(o)\n",
        "print(p.weights)\n",
        "print(p.bias)"
      ],
      "metadata": {
        "id": "pLmoltRbK1Ai"
      },
      "execution_count": null,
      "outputs": []
    },
    {
      "cell_type": "code",
      "source": [
        "#11 Spectral Clustering\n",
        "from sklearn.datasets import make_moons\n",
        "from sklearn.cluster import SpectralClustering\n",
        "import matplotlib.pyplot as plt\n",
        "X,y=make_moons(n_samples=200,noise=0.05,random_state=42)\n",
        "sc=SpectralClustering(n_clusters=2)\n",
        "pred=sc.fit_predict(X)\n",
        "plt.scatter(X[:,0],X[:,1],c=pred,cmap=\"viridis\")\n",
        "# print(pred)\n",
        "# print(y)\n"
      ],
      "metadata": {
        "id": "MKRWtjUoQrNN"
      },
      "execution_count": null,
      "outputs": []
    },
    {
      "cell_type": "code",
      "source": [],
      "metadata": {
        "id": "ijT23qhwSLts"
      },
      "execution_count": null,
      "outputs": []
    }
  ]
}