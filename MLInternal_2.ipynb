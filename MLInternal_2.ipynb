{
  "nbformat": 4,
  "nbformat_minor": 0,
  "metadata": {
    "colab": {
      "private_outputs": true,
      "provenance": [],
      "authorship_tag": "ABX9TyNz+NCVAeO2CNwv5Zg9/zUo",
      "include_colab_link": true
    },
    "kernelspec": {
      "name": "python3",
      "display_name": "Python 3"
    },
    "language_info": {
      "name": "python"
    }
  },
  "cells": [
    {
      "cell_type": "markdown",
      "metadata": {
        "id": "view-in-github",
        "colab_type": "text"
      },
      "source": [
        "<a href=\"https://colab.research.google.com/github/harshitha020505/MLLab1/blob/main/MLInternal_2.ipynb\" target=\"_parent\"><img src=\"https://colab.research.google.com/assets/colab-badge.svg\" alt=\"Open In Colab\"/></a>"
      ]
    },
    {
      "cell_type": "code",
      "execution_count": null,
      "metadata": {
        "id": "rmJM-ekSlt4R"
      },
      "outputs": [],
      "source": [
        "#16 simple perceptron(with sigmoid)\n",
        "import numpy as np\n",
        "def sigmoid(x):\n",
        "  return 1/(1+np.exp(-x));\n",
        "class neuron:\n",
        "  def __init__(self,weights,bias):\n",
        "    self.weights=weights\n",
        "    self.bias=bias\n",
        "  def feedforward(self,inputs):\n",
        "    self.inputs=inputs\n",
        "    output=np.dot(self.weights,self.inputs)+self.bias\n",
        "    return sigmoid(output)\n",
        "weights=[0,1]\n",
        "bias=4\n",
        "n=neuron(weights,bias)\n",
        "inputs=[2,3]\n",
        "print(n.feedforward(inputs))"
      ]
    },
    {
      "cell_type": "code",
      "source": [
        "#15 simple perceptron(step function)\n",
        "import numpy as np\n",
        "def step_function(x):\n",
        "  return 1 if x>=0 else 0\n",
        "class neuron:\n",
        "  def __init__(self,weights,bias):\n",
        "    self.weights=weights\n",
        "    self.bias=bias\n",
        "  def feedforward(self,inputs):\n",
        "    self.inputs=inputs\n",
        "    output=np.dot(self.weights,self.inputs)+self.bias\n",
        "    return step_function(output)\n",
        "weghts=[0,1]\n",
        "bias=4\n",
        "n=neuron(weights,bias)\n",
        "inputs=[2,3]\n",
        "print(n.feedforward(inputs))\n"
      ],
      "metadata": {
        "id": "mJ2BtNWSnuJe"
      },
      "execution_count": null,
      "outputs": []
    },
    {
      "cell_type": "code",
      "source": [
        "#13 MLP on MNIST Dataset\n",
        "import numpy as np\n",
        "import sklearn.datasets as skl_data\n",
        "from sklearn.model_selection import train_test_split\n",
        "from sklearn.neural_network import MLPClassifier\n",
        "data,labels=skl_data.fetch_openml('mnist_784',return_X_y=True,as_frame=False)\n",
        "labels=labels.astype(int)\n",
        "data=data/255.0\n",
        "X_train,X_test,y_train,y_test=train_test_split(data,labels,test_size=0.2,random_state=42)\n",
        "print(X_train.shape)\n",
        "print(X_test.shape)\n",
        "mlp=MLPClassifier(hidden_layer_sizes=(175,),max_iter=200,verbose=1,random_state=42)\n",
        "mlp.fit(X_train,y_train)\n",
        "pred=mlp.predict(X_test)\n",
        "print(mlp.score(X_train,y_train))\n",
        "print(mlp.score(X_test,y_test))\n",
        "index=345\n",
        "a=X_test[index].reshape(1,784)\n",
        "pred=mlp.predict(a)[0]\n",
        "print(pred)\n",
        "print(y_test[index])\n"
      ],
      "metadata": {
        "id": "GuOAPQiGwUNf"
      },
      "execution_count": null,
      "outputs": []
    }
  ]
}