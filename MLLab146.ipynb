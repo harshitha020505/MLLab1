{
  "nbformat": 4,
  "nbformat_minor": 0,
  "metadata": {
    "colab": {
      "provenance": [],
      "authorship_tag": "ABX9TyNhMCSN8m+dHEyBsW5zTGKN",
      "include_colab_link": true
    },
    "kernelspec": {
      "name": "python3",
      "display_name": "Python 3"
    },
    "language_info": {
      "name": "python"
    }
  },
  "cells": [
    {
      "cell_type": "markdown",
      "metadata": {
        "id": "view-in-github",
        "colab_type": "text"
      },
      "source": [
        "<a href=\"https://colab.research.google.com/github/harshitha020505/MLLab1/blob/main/MLLab146.ipynb\" target=\"_parent\"><img src=\"https://colab.research.google.com/assets/colab-badge.svg\" alt=\"Open In Colab\"/></a>"
      ]
    },
    {
      "cell_type": "code",
      "execution_count": null,
      "metadata": {
        "colab": {
          "base_uri": "https://localhost:8080/"
        },
        "id": "IvUgQnmojuFK",
        "outputId": "8a0f986e-b360-47c2-cb41-977091042335"
      },
      "outputs": [
        {
          "output_type": "stream",
          "name": "stdout",
          "text": [
            "Requirement already satisfied: scikit-learn in /usr/local/lib/python3.11/dist-packages (1.6.1)\n",
            "Requirement already satisfied: numpy>=1.19.5 in /usr/local/lib/python3.11/dist-packages (from scikit-learn) (2.0.2)\n",
            "Requirement already satisfied: scipy>=1.6.0 in /usr/local/lib/python3.11/dist-packages (from scikit-learn) (1.16.0)\n",
            "Requirement already satisfied: joblib>=1.2.0 in /usr/local/lib/python3.11/dist-packages (from scikit-learn) (1.5.1)\n",
            "Requirement already satisfied: threadpoolctl>=3.1.0 in /usr/local/lib/python3.11/dist-packages (from scikit-learn) (3.6.0)\n"
          ]
        }
      ],
      "source": [
        "!pip install scikit-learn"
      ]
    },
    {
      "cell_type": "code",
      "source": [
        "import pandas as pd\n",
        "series=pd.Series([chr(i) for i in range(65,65+27)])\n",
        "print(series)"
      ],
      "metadata": {
        "colab": {
          "base_uri": "https://localhost:8080/"
        },
        "id": "Pn-dLwB2vW1G",
        "outputId": "78294998-a999-4414-c9f5-c288149e5b49"
      },
      "execution_count": null,
      "outputs": [
        {
          "output_type": "stream",
          "name": "stdout",
          "text": [
            "0     A\n",
            "1     B\n",
            "2     C\n",
            "3     D\n",
            "4     E\n",
            "5     F\n",
            "6     G\n",
            "7     H\n",
            "8     I\n",
            "9     J\n",
            "10    K\n",
            "11    L\n",
            "12    M\n",
            "13    N\n",
            "14    O\n",
            "15    P\n",
            "16    Q\n",
            "17    R\n",
            "18    S\n",
            "19    T\n",
            "20    U\n",
            "21    V\n",
            "22    W\n",
            "23    X\n",
            "24    Y\n",
            "25    Z\n",
            "26    [\n",
            "dtype: object\n"
          ]
        }
      ]
    },
    {
      "cell_type": "code",
      "source": [
        "#9 create a dataframe\n",
        "a=[\"Harshitha\",\"Rasagna\",\"sam\",\"Rida\",\"jahnavi\"]\n",
        "data={\n",
        "    2014:[100,101,102,103,104],\n",
        "    2015:[200,201,203,204,205],\n",
        "    2016:[300,301,302,303,304],\n",
        "    2017:[400,401,402,403,404]\n",
        "}\n",
        "df=pd.DataFrame(data,index=a)\n",
        "print(df)"
      ],
      "metadata": {
        "colab": {
          "base_uri": "https://localhost:8080/"
        },
        "id": "Muto79pSx0t2",
        "outputId": "3bfa5d2a-4a18-4b03-abcb-e1a4f1d6ba48"
      },
      "execution_count": null,
      "outputs": [
        {
          "output_type": "stream",
          "name": "stdout",
          "text": [
            "           2014  2015  2016  2017\n",
            "Harshitha   100   200   300   400\n",
            "Rasagna     101   201   301   401\n",
            "sam         102   203   302   402\n",
            "Rida        103   204   303   403\n",
            "jahnavi     104   205   304   404\n"
          ]
        }
      ]
    },
    {
      "cell_type": "code",
      "source": [
        "#10\n",
        "#a\n",
        "print(df.index)#row labels\n",
        "#b\n",
        "print(df.columns)# column labels\n",
        "#c\n",
        "print(df.dtypes)#datatypes of each column\n",
        "#d\n",
        "print(df.ndim) #to display the dimensions of the dataframe\n",
        "print(df.shape) # to get the shape of the dataframe\n",
        "print(df.size) # to get the size of the dataframe\n",
        "print(df.values) # to  get the values of the dataframe\n",
        "#e\n",
        "print(df.tail(2))# to display the last two rows of a dataframe\n",
        "#f\n",
        "print(df.head(2)) # to display the first two rows of a dataframe\n",
        "\n"
      ],
      "metadata": {
        "colab": {
          "base_uri": "https://localhost:8080/"
        },
        "id": "RhwBJFWozUY4",
        "outputId": "7dabbe0b-91b4-4f4d-bfca-a910155b64f4"
      },
      "execution_count": null,
      "outputs": [
        {
          "output_type": "stream",
          "name": "stdout",
          "text": [
            "Index(['Harshitha', 'Rasagna', 'sam', 'Rida', 'jahnavi'], dtype='object')\n",
            "Index([2014, 2015, 2016, 2017], dtype='int64')\n",
            "2014    int64\n",
            "2015    int64\n",
            "2016    int64\n",
            "2017    int64\n",
            "dtype: object\n",
            "2\n",
            "(5, 4)\n",
            "20\n",
            "[[100 200 300 400]\n",
            " [101 201 301 401]\n",
            " [102 203 302 402]\n",
            " [103 204 303 403]\n",
            " [104 205 304 404]]\n",
            "         2014  2015  2016  2017\n",
            "Rida      103   204   303   403\n",
            "jahnavi   104   205   304   404\n",
            "           2014  2015  2016  2017\n",
            "Harshitha   100   200   300   400\n",
            "Rasagna     101   201   301   401\n"
          ]
        }
      ]
    },
    {
      "cell_type": "code",
      "source": [
        "#10\n",
        "#g\n",
        "import pandas as pd\n",
        "data = {\n",
        "    \"Harshitha\": 160000,\n",
        "    \"Rasagna\": 110000,\n",
        "    \"sam\": 500000,\n",
        "    \"Rida\": 340000,\n",
        "    \"jahnavi\": 900000\n",
        "}\n",
        "Sales2 = pd.DataFrame.from_dict(data, orient='index',columns=['2018'])\n",
        "\n",
        "print(Sales2)\n",
        "#h\n",
        "print(df.empty)\n"
      ],
      "metadata": {
        "colab": {
          "base_uri": "https://localhost:8080/"
        },
        "id": "f6vR9LuWqx1R",
        "outputId": "aa7f9918-5e93-48ad-ae7b-61bc5fc76f28"
      },
      "execution_count": null,
      "outputs": [
        {
          "output_type": "stream",
          "name": "stdout",
          "text": [
            "             2018\n",
            "Harshitha  160000\n",
            "Rasagna    110000\n",
            "sam        500000\n",
            "Rida       340000\n",
            "jahnavi    900000\n",
            "False\n"
          ]
        }
      ]
    },
    {
      "cell_type": "code",
      "source": [
        "#11\n",
        "#a\n",
        "df[2018]=Sales2['2018']\n",
        "print(df)\n",
        "#b\n",
        "print(df.T)\n",
        "#c\n",
        "print(df[2017])\n",
        "#d\n",
        "result=df.loc[[\"Harshitha\",\"jahnavi\"],[2017,2018]]\n",
        "print(result)\n",
        "#e\n",
        "r=df.loc[\"sam\",2016]\n",
        "print(r)\n",
        "#f\n",
        "sumeet = [196.2, 37800, 52000, 78438, 38852]\n",
        "years = [2014, 2015, 2016, 2017, 2018]\n",
        "df.loc[\"Sumeet\"] = pd.Series(data=sumeet, index=years)\n",
        "print(df)\n",
        "#g\n",
        "df1=df.drop(2014,axis=1)\n",
        "print(df1)\n",
        "#h\n",
        "df2=df.drop(\"sam\",axis=0)\n",
        "print(df2)\n",
        "#i\n",
        "df3=df.rename(index={\n",
        "    \"Rasagna\":\"vivaan\",\n",
        "    \"jahnavi\":\"shailesh\"\n",
        "},inplace=False)\n",
        "print(df3)\n",
        "#j\n",
        "df3.loc[\"shailesh\", 2018] = 100000\n",
        "print(df3.loc[\"shailesh\"])\n",
        "#k\n",
        "df3.to_csv(\"SalesFigures.csv\", index=False, header=False)\n",
        "#l\n",
        "SalesRetrieved = pd.read_csv(\"SalesFigures.csv\", header=None)\n",
        "SalesRetrieved.index = df3.index\n",
        "SalesRetrieved.columns = df3.columns\n",
        "print(SalesRetrieved)\n",
        "\n"
      ],
      "metadata": {
        "colab": {
          "base_uri": "https://localhost:8080/"
        },
        "id": "VqEri_OSssqp",
        "outputId": "ee2c7603-0850-4db1-e5c1-26fd559696b9"
      },
      "execution_count": null,
      "outputs": [
        {
          "output_type": "stream",
          "name": "stdout",
          "text": [
            "            2014     2015     2016     2017      2018\n",
            "Harshitha  100.0    200.0    300.0    400.0  160000.0\n",
            "Rasagna    101.0    201.0    301.0    401.0  110000.0\n",
            "sam        102.0    203.0    302.0    402.0  500000.0\n",
            "Rida       103.0    204.0    303.0    403.0  340000.0\n",
            "jahnavi    104.0    205.0    304.0    404.0  900000.0\n",
            "Sumeet     196.2  37800.0  52000.0  78438.0       NaN\n",
            "      Harshitha   Rasagna       sam      Rida   jahnavi   Sumeet\n",
            "2014      100.0     101.0     102.0     103.0     104.0    196.2\n",
            "2015      200.0     201.0     203.0     204.0     205.0  37800.0\n",
            "2016      300.0     301.0     302.0     303.0     304.0  52000.0\n",
            "2017      400.0     401.0     402.0     403.0     404.0  78438.0\n",
            "2018   160000.0  110000.0  500000.0  340000.0  900000.0      NaN\n",
            "Harshitha      400.0\n",
            "Rasagna        401.0\n",
            "sam            402.0\n",
            "Rida           403.0\n",
            "jahnavi        404.0\n",
            "Sumeet       78438.0\n",
            "Name: 2017, dtype: float64\n",
            "            2017      2018\n",
            "Harshitha  400.0  160000.0\n",
            "jahnavi    404.0  900000.0\n",
            "302.0\n",
            "            2014     2015     2016     2017      2018\n",
            "Harshitha  100.0    200.0    300.0    400.0  160000.0\n",
            "Rasagna    101.0    201.0    301.0    401.0  110000.0\n",
            "sam        102.0    203.0    302.0    402.0  500000.0\n",
            "Rida       103.0    204.0    303.0    403.0  340000.0\n",
            "jahnavi    104.0    205.0    304.0    404.0  900000.0\n",
            "Sumeet     196.2  37800.0  52000.0  78438.0   38852.0\n",
            "              2015     2016     2017      2018\n",
            "Harshitha    200.0    300.0    400.0  160000.0\n",
            "Rasagna      201.0    301.0    401.0  110000.0\n",
            "sam          203.0    302.0    402.0  500000.0\n",
            "Rida         204.0    303.0    403.0  340000.0\n",
            "jahnavi      205.0    304.0    404.0  900000.0\n",
            "Sumeet     37800.0  52000.0  78438.0   38852.0\n",
            "            2014     2015     2016     2017      2018\n",
            "Harshitha  100.0    200.0    300.0    400.0  160000.0\n",
            "Rasagna    101.0    201.0    301.0    401.0  110000.0\n",
            "Rida       103.0    204.0    303.0    403.0  340000.0\n",
            "jahnavi    104.0    205.0    304.0    404.0  900000.0\n",
            "Sumeet     196.2  37800.0  52000.0  78438.0   38852.0\n",
            "            2014     2015     2016     2017      2018\n",
            "Harshitha  100.0    200.0    300.0    400.0  160000.0\n",
            "vivaan     101.0    201.0    301.0    401.0  110000.0\n",
            "sam        102.0    203.0    302.0    402.0  500000.0\n",
            "Rida       103.0    204.0    303.0    403.0  340000.0\n",
            "shailesh   104.0    205.0    304.0    404.0  900000.0\n",
            "Sumeet     196.2  37800.0  52000.0  78438.0   38852.0\n",
            "2014       104.0\n",
            "2015       205.0\n",
            "2016       304.0\n",
            "2017       404.0\n",
            "2018    100000.0\n",
            "Name: shailesh, dtype: float64\n",
            "            2014     2015     2016     2017      2018\n",
            "Harshitha  100.0    200.0    300.0    400.0  160000.0\n",
            "vivaan     101.0    201.0    301.0    401.0  110000.0\n",
            "sam        102.0    203.0    302.0    402.0  500000.0\n",
            "Rida       103.0    204.0    303.0    403.0  340000.0\n",
            "shailesh   104.0    205.0    304.0    404.0  100000.0\n",
            "Sumeet     196.2  37800.0  52000.0  78438.0   38852.0\n"
          ]
        }
      ]
    },
    {
      "cell_type": "code",
      "source": [
        "#13\n",
        "#a\n",
        "data = {\n",
        "    \"Item\": [\"TV\", \"TV\", \"TV\", \"AC\"],\n",
        "    \"Company\": [\"LG\", \"VIDEOCON\", \"LG\", \"SONY\"],\n",
        "    \"Rupees\": [12000, 10000, 15000, 14000],\n",
        "    \"USD\": [700, 650, 800, 750]\n",
        "}\n",
        "df = pd.DataFrame(data)\n",
        "print(\"Original DataFrame:\")\n",
        "print(df)\n",
        "#b\n",
        "new_rows = pd.DataFrame([\n",
        "    {\"Item\": \"TV\", \"Company\": \"SAMSUNG\", \"Rupees\": 13000, \"USD\": 720},\n",
        "    {\"Item\": \"AC\", \"Company\": \"SONY\", \"Rupees\": 16000, \"USD\": 790}\n",
        "])\n",
        "df = pd.concat([df, new_rows], ignore_index=True)\n",
        "print(df)\n",
        "#c\n",
        "a=df[(df[\"Item\"]==\"TV\") & (df[\"Company\"]==\"LG\")][\"Rupees\"].max()\n",
        "print(a)\n",
        "#d\n",
        "b=df[\"Rupees\"].sum()\n",
        "print(b)\n",
        "#e\n",
        "c=df[df[\"Company\"]==\"SONY\"][\"USD\"].median()\n",
        "print(c)\n",
        "#f\n",
        "df_sorted = df.sort_values(by=\"Rupees\")\n",
        "print(df_sorted)"
      ],
      "metadata": {
        "colab": {
          "base_uri": "https://localhost:8080/"
        },
        "id": "lWhVaCVoumPF",
        "outputId": "d1b646e4-15fb-48ba-9547-8c814e52c5ad"
      },
      "execution_count": null,
      "outputs": [
        {
          "output_type": "stream",
          "name": "stdout",
          "text": [
            "Original DataFrame:\n",
            "  Item   Company  Rupees  USD\n",
            "0   TV        LG   12000  700\n",
            "1   TV  VIDEOCON   10000  650\n",
            "2   TV        LG   15000  800\n",
            "3   AC      SONY   14000  750\n",
            "  Item   Company  Rupees  USD\n",
            "0   TV        LG   12000  700\n",
            "1   TV  VIDEOCON   10000  650\n",
            "2   TV        LG   15000  800\n",
            "3   AC      SONY   14000  750\n",
            "4   TV   SAMSUNG   13000  720\n",
            "5   AC      SONY   16000  790\n",
            "15000\n",
            "80000\n",
            "770.0\n",
            "  Item   Company  Rupees  USD\n",
            "1   TV  VIDEOCON   10000  650\n",
            "0   TV        LG   12000  700\n",
            "4   TV   SAMSUNG   13000  720\n",
            "3   AC      SONY   14000  750\n",
            "2   TV        LG   15000  800\n",
            "5   AC      SONY   16000  790\n"
          ]
        }
      ]
    },
    {
      "cell_type": "code",
      "source": [
        "#14\n",
        "#a\n",
        "import numpy as np\n",
        "data = {\n",
        "    'Name': ['Alice', 'Bob', 'Carol', 'David', 'Eve'],\n",
        "    'Degree': ['BCA', 'BCA', 'MBA', 'MBA', 'BCA'],\n",
        "    'Marks': [85, np.nan, 90, 80, 88]\n",
        "}\n",
        "\n",
        "df5 = pd.DataFrame(data)\n",
        "#b\n",
        "print(df5.groupby(\"Degree\")[\"Marks\"].max())\n",
        "#c\n",
        "df5[\"Marks\"] = df5[\"Marks\"].fillna(76)\n",
        "#d\n",
        "df5.set_index('Name', inplace=True)\n",
        "#e\n",
        "print(df5.groupby([\"Name\", \"Degree\"])[\"Marks\"].mean())\n",
        "#f\n",
        "print((df5[\"Degree\"] == \"MBA\").sum())\n",
        "#g\n",
        "print(df5[df5[\"Degree\"] == \"BCA\"][\"Marks\"].mode())\n"
      ],
      "metadata": {
        "colab": {
          "base_uri": "https://localhost:8080/"
        },
        "id": "43LO0eELDlKm",
        "outputId": "8b87caf1-c560-4f49-e583-a4a2bf09ad90"
      },
      "execution_count": null,
      "outputs": [
        {
          "output_type": "stream",
          "name": "stdout",
          "text": [
            "Degree\n",
            "BCA    88.0\n",
            "MBA    90.0\n",
            "Name: Marks, dtype: float64\n",
            "Name   Degree\n",
            "Alice  BCA       85.0\n",
            "Bob    BCA       76.0\n",
            "Carol  MBA       90.0\n",
            "David  MBA       80.0\n",
            "Eve    BCA       88.0\n",
            "Name: Marks, dtype: float64\n",
            "2\n",
            "0    76.0\n",
            "1    85.0\n",
            "2    88.0\n",
            "Name: Marks, dtype: float64\n"
          ]
        }
      ]
    },
    {
      "cell_type": "code",
      "source": [
        "#Solved Case Study based on Open Datasets\n",
        "#1\n",
        "import pandas as pd\n",
        "columns = ['mpg', 'cylinders', 'displacement', 'horsepower',\n",
        "           'weight', 'acceleration', 'model_year', 'origin', 'car_name']\n",
        "autodf = pd.read_csv('auto-mpg.data', delim_whitespace=True, names=columns, na_values='?')\n",
        "#2\n",
        "print(autodf.describe(include='all'))\n",
        "#3\n",
        "print(autodf.head(10))\n",
        "#4\n",
        "autodf_filled = autodf.fillna(method='ffill')\n",
        "print(autodf_filled)\n",
        "autodf_cleaned = autodf.dropna()\n",
        "print(autodf_cleaned)\n",
        "#5\n",
        "max_mpg = autodf_cleaned['mpg'].max()\n",
        "max_mpg_car = autodf_cleaned[autodf_cleaned['mpg'] == max_mpg]\n",
        "print(max_mpg_car[['car_name', 'mpg']])\n",
        "#6\n",
        "avg_displacement = autodf_cleaned.groupby('cylinders')['displacement'].mean()\n",
        "print(avg_displacement)\n",
        "#7\n",
        "avg_cylinders = autodf_cleaned['cylinders'].mean()\n",
        "print(avg_cylinders)\n",
        "#8\n",
        "average_weight = autodf_cleaned['weight'].mean()\n",
        "count_heavy_cars = autodf_cleaned[autodf_cleaned['weight'] > average_weight].shape[0]\n",
        "print(count_heavy_cars)\n"
      ],
      "metadata": {
        "colab": {
          "base_uri": "https://localhost:8080/"
        },
        "id": "eCBtav9bNlm1",
        "outputId": "29dc4c2a-baa2-46d9-eee5-929a7052d15f"
      },
      "execution_count": null,
      "outputs": [
        {
          "output_type": "stream",
          "name": "stdout",
          "text": [
            "               mpg   cylinders  displacement  horsepower       weight  \\\n",
            "count   398.000000  398.000000    398.000000  392.000000   398.000000   \n",
            "unique         NaN         NaN           NaN         NaN          NaN   \n",
            "top            NaN         NaN           NaN         NaN          NaN   \n",
            "freq           NaN         NaN           NaN         NaN          NaN   \n",
            "mean     23.514573    5.454774    193.425879  104.469388  2970.424623   \n",
            "std       7.815984    1.701004    104.269838   38.491160   846.841774   \n",
            "min       9.000000    3.000000     68.000000   46.000000  1613.000000   \n",
            "25%      17.500000    4.000000    104.250000   75.000000  2223.750000   \n",
            "50%      23.000000    4.000000    148.500000   93.500000  2803.500000   \n",
            "75%      29.000000    8.000000    262.000000  126.000000  3608.000000   \n",
            "max      46.600000    8.000000    455.000000  230.000000  5140.000000   \n",
            "\n",
            "        acceleration  model_year      origin    car_name  \n",
            "count     398.000000  398.000000  398.000000         398  \n",
            "unique           NaN         NaN         NaN         305  \n",
            "top              NaN         NaN         NaN  ford pinto  \n",
            "freq             NaN         NaN         NaN           6  \n",
            "mean       15.568090   76.010050    1.572864         NaN  \n",
            "std         2.757689    3.697627    0.802055         NaN  \n",
            "min         8.000000   70.000000    1.000000         NaN  \n",
            "25%        13.825000   73.000000    1.000000         NaN  \n",
            "50%        15.500000   76.000000    1.000000         NaN  \n",
            "75%        17.175000   79.000000    2.000000         NaN  \n",
            "max        24.800000   82.000000    3.000000         NaN  \n",
            "    mpg  cylinders  displacement  horsepower  weight  acceleration  \\\n",
            "0  18.0          8         307.0       130.0  3504.0          12.0   \n",
            "1  15.0          8         350.0       165.0  3693.0          11.5   \n",
            "2  18.0          8         318.0       150.0  3436.0          11.0   \n",
            "3  16.0          8         304.0       150.0  3433.0          12.0   \n",
            "4  17.0          8         302.0       140.0  3449.0          10.5   \n",
            "5  15.0          8         429.0       198.0  4341.0          10.0   \n",
            "6  14.0          8         454.0       220.0  4354.0           9.0   \n",
            "7  14.0          8         440.0       215.0  4312.0           8.5   \n",
            "8  14.0          8         455.0       225.0  4425.0          10.0   \n",
            "9  15.0          8         390.0       190.0  3850.0           8.5   \n",
            "\n",
            "   model_year  origin                   car_name  \n",
            "0          70       1  chevrolet chevelle malibu  \n",
            "1          70       1          buick skylark 320  \n",
            "2          70       1         plymouth satellite  \n",
            "3          70       1              amc rebel sst  \n",
            "4          70       1                ford torino  \n",
            "5          70       1           ford galaxie 500  \n",
            "6          70       1           chevrolet impala  \n",
            "7          70       1          plymouth fury iii  \n",
            "8          70       1           pontiac catalina  \n",
            "9          70       1         amc ambassador dpl  \n",
            "      mpg  cylinders  displacement  horsepower  weight  acceleration  \\\n",
            "0    18.0          8         307.0       130.0  3504.0          12.0   \n",
            "1    15.0          8         350.0       165.0  3693.0          11.5   \n",
            "2    18.0          8         318.0       150.0  3436.0          11.0   \n",
            "3    16.0          8         304.0       150.0  3433.0          12.0   \n",
            "4    17.0          8         302.0       140.0  3449.0          10.5   \n",
            "..    ...        ...           ...         ...     ...           ...   \n",
            "393  27.0          4         140.0        86.0  2790.0          15.6   \n",
            "394  44.0          4          97.0        52.0  2130.0          24.6   \n",
            "395  32.0          4         135.0        84.0  2295.0          11.6   \n",
            "396  28.0          4         120.0        79.0  2625.0          18.6   \n",
            "397  31.0          4         119.0        82.0  2720.0          19.4   \n",
            "\n",
            "     model_year  origin                   car_name  \n",
            "0            70       1  chevrolet chevelle malibu  \n",
            "1            70       1          buick skylark 320  \n",
            "2            70       1         plymouth satellite  \n",
            "3            70       1              amc rebel sst  \n",
            "4            70       1                ford torino  \n",
            "..          ...     ...                        ...  \n",
            "393          82       1            ford mustang gl  \n",
            "394          82       2                  vw pickup  \n",
            "395          82       1              dodge rampage  \n",
            "396          82       1                ford ranger  \n",
            "397          82       1                 chevy s-10  \n",
            "\n",
            "[398 rows x 9 columns]\n",
            "      mpg  cylinders  displacement  horsepower  weight  acceleration  \\\n",
            "0    18.0          8         307.0       130.0  3504.0          12.0   \n",
            "1    15.0          8         350.0       165.0  3693.0          11.5   \n",
            "2    18.0          8         318.0       150.0  3436.0          11.0   \n",
            "3    16.0          8         304.0       150.0  3433.0          12.0   \n",
            "4    17.0          8         302.0       140.0  3449.0          10.5   \n",
            "..    ...        ...           ...         ...     ...           ...   \n",
            "393  27.0          4         140.0        86.0  2790.0          15.6   \n",
            "394  44.0          4          97.0        52.0  2130.0          24.6   \n",
            "395  32.0          4         135.0        84.0  2295.0          11.6   \n",
            "396  28.0          4         120.0        79.0  2625.0          18.6   \n",
            "397  31.0          4         119.0        82.0  2720.0          19.4   \n",
            "\n",
            "     model_year  origin                   car_name  \n",
            "0            70       1  chevrolet chevelle malibu  \n",
            "1            70       1          buick skylark 320  \n",
            "2            70       1         plymouth satellite  \n",
            "3            70       1              amc rebel sst  \n",
            "4            70       1                ford torino  \n",
            "..          ...     ...                        ...  \n",
            "393          82       1            ford mustang gl  \n",
            "394          82       2                  vw pickup  \n",
            "395          82       1              dodge rampage  \n",
            "396          82       1                ford ranger  \n",
            "397          82       1                 chevy s-10  \n",
            "\n",
            "[392 rows x 9 columns]\n",
            "      car_name   mpg\n",
            "322  mazda glc  46.6\n",
            "cylinders\n",
            "3     72.500000\n",
            "4    109.670854\n",
            "5    145.000000\n",
            "6    218.361446\n",
            "8    345.009709\n",
            "Name: displacement, dtype: float64\n",
            "5.471938775510204\n",
            "170\n"
          ]
        },
        {
          "output_type": "stream",
          "name": "stderr",
          "text": [
            "/tmp/ipython-input-63-1697215883.py:4: FutureWarning: The 'delim_whitespace' keyword in pd.read_csv is deprecated and will be removed in a future version. Use ``sep='\\s+'`` instead\n",
            "  autodf = pd.read_csv('auto-mpg.data', delim_whitespace=True, names=columns, na_values='?')\n",
            "/tmp/ipython-input-63-1697215883.py:10: FutureWarning: DataFrame.fillna with 'method' is deprecated and will raise in a future version. Use obj.ffill() or obj.bfill() instead.\n",
            "  autodf_filled = autodf.fillna(method='ffill')\n"
          ]
        }
      ]
    }
  ]
}