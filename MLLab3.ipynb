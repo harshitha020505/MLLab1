{
  "nbformat": 4,
  "nbformat_minor": 0,
  "metadata": {
    "colab": {
      "provenance": [],
      "authorship_tag": "ABX9TyNOz8sZDPyWQW/kydpo1z4V",
      "include_colab_link": true
    },
    "kernelspec": {
      "name": "python3",
      "display_name": "Python 3"
    },
    "language_info": {
      "name": "python"
    }
  },
  "cells": [
    {
      "cell_type": "markdown",
      "metadata": {
        "id": "view-in-github",
        "colab_type": "text"
      },
      "source": [
        "<a href=\"https://colab.research.google.com/github/harshitha020505/MLLab1/blob/main/MLLab3.ipynb\" target=\"_parent\"><img src=\"https://colab.research.google.com/assets/colab-badge.svg\" alt=\"Open In Colab\"/></a>"
      ]
    },
    {
      "cell_type": "code",
      "execution_count": null,
      "metadata": {
        "colab": {
          "base_uri": "https://localhost:8080/"
        },
        "id": "2XgHL3DoigKe",
        "outputId": "d3c36389-6ecc-4ea7-d341-46eedc55a230"
      },
      "outputs": [
        {
          "output_type": "stream",
          "name": "stdout",
          "text": [
            "     PassengerId  Survived  Pclass  \\\n",
            "0              1         0       3   \n",
            "1              2         1       1   \n",
            "2              3         1       3   \n",
            "3              4         1       1   \n",
            "4              5         0       3   \n",
            "..           ...       ...     ...   \n",
            "886          887         0       2   \n",
            "887          888         1       1   \n",
            "888          889         0       3   \n",
            "889          890         1       1   \n",
            "890          891         0       3   \n",
            "\n",
            "                                                  Name     Sex   Age  SibSp  \\\n",
            "0                              Braund, Mr. Owen Harris    male  22.0      1   \n",
            "1    Cumings, Mrs. John Bradley (Florence Briggs Th...  female  38.0      1   \n",
            "2                               Heikkinen, Miss. Laina  female  26.0      0   \n",
            "3         Futrelle, Mrs. Jacques Heath (Lily May Peel)  female  35.0      1   \n",
            "4                             Allen, Mr. William Henry    male  35.0      0   \n",
            "..                                                 ...     ...   ...    ...   \n",
            "886                              Montvila, Rev. Juozas    male  27.0      0   \n",
            "887                       Graham, Miss. Margaret Edith  female  19.0      0   \n",
            "888           Johnston, Miss. Catherine Helen \"Carrie\"  female   NaN      1   \n",
            "889                              Behr, Mr. Karl Howell    male  26.0      0   \n",
            "890                                Dooley, Mr. Patrick    male  32.0      0   \n",
            "\n",
            "     Parch            Ticket     Fare Cabin Embarked  \n",
            "0        0         A/5 21171   7.2500   NaN        S  \n",
            "1        0          PC 17599  71.2833   C85        C  \n",
            "2        0  STON/O2. 3101282   7.9250   NaN        S  \n",
            "3        0            113803  53.1000  C123        S  \n",
            "4        0            373450   8.0500   NaN        S  \n",
            "..     ...               ...      ...   ...      ...  \n",
            "886      0            211536  13.0000   NaN        S  \n",
            "887      0            112053  30.0000   B42        S  \n",
            "888      2        W./C. 6607  23.4500   NaN        S  \n",
            "889      0            111369  30.0000  C148        C  \n",
            "890      0            370376   7.7500   NaN        Q  \n",
            "\n",
            "[891 rows x 12 columns]\n"
          ]
        }
      ],
      "source": [
        "import pandas as pd\n",
        "df=pd.read_csv(\"titanic_train.csv\")\n",
        "print(df)"
      ]
    },
    {
      "cell_type": "code",
      "source": [
        "df['Age'].fillna(df['Age'].median(), inplace=True)  # Median is safer for skewed data\n",
        "df['Fare'].fillna(df['Fare'].mean(), inplace=True)  # Mean\n"
      ],
      "metadata": {
        "colab": {
          "base_uri": "https://localhost:8080/"
        },
        "id": "4bQFkZxsWHzj",
        "outputId": "d7488825-6efc-41ff-bfab-f8409f63dd7d"
      },
      "execution_count": 12,
      "outputs": [
        {
          "output_type": "stream",
          "name": "stderr",
          "text": [
            "/tmp/ipython-input-3004021301.py:1: FutureWarning: A value is trying to be set on a copy of a DataFrame or Series through chained assignment using an inplace method.\n",
            "The behavior will change in pandas 3.0. This inplace method will never work because the intermediate object on which we are setting values always behaves as a copy.\n",
            "\n",
            "For example, when doing 'df[col].method(value, inplace=True)', try using 'df.method({col: value}, inplace=True)' or df[col] = df[col].method(value) instead, to perform the operation inplace on the original object.\n",
            "\n",
            "\n",
            "  df['Age'].fillna(df['Age'].median(), inplace=True)  # Median is safer for skewed data\n",
            "/tmp/ipython-input-3004021301.py:2: FutureWarning: A value is trying to be set on a copy of a DataFrame or Series through chained assignment using an inplace method.\n",
            "The behavior will change in pandas 3.0. This inplace method will never work because the intermediate object on which we are setting values always behaves as a copy.\n",
            "\n",
            "For example, when doing 'df[col].method(value, inplace=True)', try using 'df.method({col: value}, inplace=True)' or df[col] = df[col].method(value) instead, to perform the operation inplace on the original object.\n",
            "\n",
            "\n",
            "  df['Fare'].fillna(df['Fare'].mean(), inplace=True)  # Mean\n"
          ]
        }
      ]
    },
    {
      "cell_type": "code",
      "source": [
        "df.ffill()\n",
        "print(df.isnull().sum)\n"
      ],
      "metadata": {
        "colab": {
          "base_uri": "https://localhost:8080/"
        },
        "id": "FqbsOhimoy5H",
        "outputId": "5e741ac3-32c5-43c7-f364-9574679c73ab"
      },
      "execution_count": 13,
      "outputs": [
        {
          "output_type": "stream",
          "name": "stdout",
          "text": [
            "<bound method DataFrame.sum of      PassengerId  Survived  Pclass   Name    Sex    Age  SibSp  Parch  Ticket  \\\n",
            "0          False     False   False  False  False  False  False  False   False   \n",
            "1          False     False   False  False  False  False  False  False   False   \n",
            "2          False     False   False  False  False  False  False  False   False   \n",
            "3          False     False   False  False  False  False  False  False   False   \n",
            "4          False     False   False  False  False  False  False  False   False   \n",
            "..           ...       ...     ...    ...    ...    ...    ...    ...     ...   \n",
            "886        False     False   False  False  False  False  False  False   False   \n",
            "887        False     False   False  False  False  False  False  False   False   \n",
            "888        False     False   False  False  False  False  False  False   False   \n",
            "889        False     False   False  False  False  False  False  False   False   \n",
            "890        False     False   False  False  False  False  False  False   False   \n",
            "\n",
            "      Fare  Cabin  Embarked  \n",
            "0    False   True     False  \n",
            "1    False  False     False  \n",
            "2    False   True     False  \n",
            "3    False  False     False  \n",
            "4    False   True     False  \n",
            "..     ...    ...       ...  \n",
            "886  False   True     False  \n",
            "887  False  False     False  \n",
            "888  False   True     False  \n",
            "889  False  False     False  \n",
            "890  False   True     False  \n",
            "\n",
            "[891 rows x 12 columns]>\n"
          ]
        }
      ]
    },
    {
      "cell_type": "code",
      "source": [
        "#CONSTANT FEATURES\n",
        "from sklearn.model_selection import train_test_split\n",
        "[col for col in df.columns if df[col].isnull().sum()>0]\n",
        "X=df.drop('Survived',axis=1)\n",
        "X=pd.get_dummies(X,drop_first=True)\n",
        "y=df['Survived']\n",
        "X_train,X_test,y_train,y_test=train_test_split(X,y,test_size=0.2,random_state=0)\n",
        "constant_features=[features for features in X_train.columns if X_train[features].std()==0]\n",
        "print(len(constant_features))\n",
        "X_train.drop(columns=constant_features, inplace=True)\n",
        "X_test.drop(columns=constant_features, inplace=True)"
      ],
      "metadata": {
        "id": "5mw8lAKDkbGW",
        "colab": {
          "base_uri": "https://localhost:8080/"
        },
        "outputId": "b8996a50-ef04-4f36-f302-43ec3f4e6d62"
      },
      "execution_count": 14,
      "outputs": [
        {
          "output_type": "stream",
          "name": "stdout",
          "text": [
            "311\n"
          ]
        }
      ]
    },
    {
      "cell_type": "code",
      "source": [
        "#quasi-constant features\n",
        "X = df.drop('Survived', axis=1)\n",
        "y = df['Survived']\n",
        "\n",
        "X_train, X_test, y_train, y_test = train_test_split(X, y, test_size=0.3, random_state=0)\n",
        "quasi_constant_features=[]\n",
        "for feature in X_train.columns:\n",
        "  predominant=(X_train[feature].value_counts()/float(len(X_train))).sort_values(ascending=False).values[0]\n",
        "  if(predominant>0.99):\n",
        "    quasi_constant_features.append(feature)\n",
        "print(len(quasi_constant_features))\n",
        "print(quasi_constant_features)\n",
        "X_train.drop(columns=quasi_constant_features, inplace=True)\n",
        "X_test.drop(columns=quasi_constant_features, inplace=True)"
      ],
      "metadata": {
        "colab": {
          "base_uri": "https://localhost:8080/"
        },
        "id": "SrtWeebZUC_T",
        "outputId": "30dbc883-239b-4125-eedd-0e06bb7a56c8"
      },
      "execution_count": 15,
      "outputs": [
        {
          "output_type": "stream",
          "name": "stdout",
          "text": [
            "0\n",
            "[]\n"
          ]
        }
      ]
    },
    {
      "cell_type": "code",
      "source": [
        "#duplicated features\n",
        "dup=[]\n",
        "for i in range(0,len(X_train.columns)):\n",
        "  col1=X_train.columns[i]\n",
        "  for col2 in X_train.columns[i+1:]:\n",
        "    if(X_train[col1].equals(X_train[col2])):\n",
        "      dup.append(col2)\n",
        "print(len(dup))\n",
        "print(dup)\n",
        "X_train.drop(columns=dup, inplace=True)\n",
        "X_test.drop(columns=dup, inplace=True)"
      ],
      "metadata": {
        "colab": {
          "base_uri": "https://localhost:8080/"
        },
        "id": "ASujxXNOVXTm",
        "outputId": "bbbe8748-f612-469a-f4e4-b6817a7e4dfd"
      },
      "execution_count": 17,
      "outputs": [
        {
          "output_type": "stream",
          "name": "stdout",
          "text": [
            "0\n",
            "[]\n"
          ]
        }
      ]
    },
    {
      "cell_type": "code",
      "source": [
        "# Correlation\n",
        "grouped_feature_ls = []\n",
        "correlated_groups = []\n",
        "\n",
        "def correlation(dataset, threshold):\n",
        "    col_corr = set()\n",
        "    numeric_df = dataset.select_dtypes(include=['number'])  # Only numeric columns\n",
        "    col_matrix = numeric_df.corr()\n",
        "    for i in range(len(col_matrix.columns)):\n",
        "        for j in range(i):\n",
        "            if abs(col_matrix.iloc[i, j]\n",
        "                   ) > threshold:\n",
        "                colname = col_matrix.columns[i]\n",
        "                col_corr.add(colname)\n",
        "    return col_corr\n",
        "\n",
        "corr_features = correlation(df, 0.9)\n",
        "corr_final = set(corr_features)\n",
        "print(len(corr_final))\n",
        "X_train.drop(columns=corr_final, inplace=True)\n",
        "X_test.drop(columns=corr_final, inplace=True)"
      ],
      "metadata": {
        "colab": {
          "base_uri": "https://localhost:8080/"
        },
        "id": "JesAq2NEVftV",
        "outputId": "69729ad9-58ac-4ab1-fb08-22129f82883a"
      },
      "execution_count": 18,
      "outputs": [
        {
          "output_type": "stream",
          "name": "stdout",
          "text": [
            "0\n"
          ]
        }
      ]
    },
    {
      "cell_type": "code",
      "source": [
        "#Mutual Information\n",
        "from sklearn.feature_selection import mutual_info_classif, SelectKBest\n",
        "import pandas as pd\n",
        "\n",
        "X = df.drop('Survived', axis=1)\n",
        "X = pd.get_dummies(X, drop_first=True)\n",
        "y = df['Survived']\n",
        "X_train, X_test, y_train, y_test = train_test_split(X, y, test_size=0.3, random_state=0)\n",
        "\n",
        "mi_scores = mutual_info_classif(X.fillna(0), y)\n",
        "mi_scores = pd.Series(mi_scores, index=X.columns)\n",
        "mi_scores = mi_scores.sort_values(ascending=False)\n",
        "print(\"Mutual Information Scores:\\n\", mi_scores)\n",
        "\n",
        "X_train_encoded = pd.get_dummies(X_train, drop_first=True).fillna(0)\n",
        "sel_ = SelectKBest(mutual_info_classif, k=10).fit(X_train_encoded, y_train)\n",
        "\n",
        "top_features = X_train_encoded.columns[sel_.get_support()]\n",
        "print(\"\\nTop 10 Features:\\n\", top_features)\n"
      ],
      "metadata": {
        "colab": {
          "base_uri": "https://localhost:8080/"
        },
        "id": "Iv6FnaVRVlHQ",
        "outputId": "ec00de6e-4661-4d26-8629-479cc0b143cb"
      },
      "execution_count": 23,
      "outputs": [
        {
          "output_type": "stream",
          "name": "stdout",
          "text": [
            "Mutual Information Scores:\n",
            " Sex_male                            0.134945\n",
            "Fare                                0.119682\n",
            "Pclass                              0.062997\n",
            "Ticket_347466                       0.053449\n",
            "Ticket_347060                       0.051914\n",
            "                                      ...   \n",
            "Ticket_113505                       0.000000\n",
            "Name_van Melkebeke, Mr. Philemon    0.000000\n",
            "Ticket_110413                       0.000000\n",
            "Ticket_110465                       0.000000\n",
            "Ticket_113043                       0.000000\n",
            "Length: 1725, dtype: float64\n",
            "\n",
            "Top 10 Features:\n",
            " Index(['Pclass', 'Fare', 'Name_Goodwin, Miss. Lillian Amy',\n",
            "       'Name_Lindahl, Miss. Agda Thorilda Viktoria',\n",
            "       'Name_Slabenoff, Mr. Petco', 'Sex_male', 'Ticket_29751',\n",
            "       'Ticket_386525', 'Ticket_SOTON/O.Q. 3101310', 'Cabin_E121'],\n",
            "      dtype='object')\n"
          ]
        }
      ]
    },
    {
      "cell_type": "code",
      "source": [
        "#CHI SQUARE TEst\n",
        "from scipy.stats import chi2_contingency\n",
        "result=[]\n",
        "for feature in X_train.columns:\n",
        "  crosstab=pd.crosstab(X_train[feature],df['Survived'])\n",
        "  chi2_stat,p_val,dof,expected=chi2_contingency(crosstab)\n",
        "  if p_val<0.05:\n",
        "    result.append(feature)\n",
        "print(result)\n",
        "X_train.drop(columns=feature, inplace=True)\n",
        "X_test.drop(columns=feature, inplace=True)"
      ],
      "metadata": {
        "colab": {
          "base_uri": "https://localhost:8080/"
        },
        "id": "cfuKoh0vYNQu",
        "outputId": "50a83123-6b9d-425e-ec7e-3889fa6bc68f"
      },
      "execution_count": 25,
      "outputs": [
        {
          "output_type": "stream",
          "name": "stdout",
          "text": [
            "['Pclass', 'SibSp', 'Parch', 'Fare', 'Sex_male', 'Embarked_S']\n"
          ]
        }
      ]
    },
    {
      "cell_type": "code",
      "source": [
        "#Anova\n",
        "from sklearn.feature_selection import f_classif, SelectKBest\n",
        "anova_selector = SelectKBest(score_func=f_classif, k=10)\n",
        "anova_selector.fit(X_train, y_train)\n",
        "\n",
        "top_features = X_train.columns[anova_selector.get_support()]\n",
        "print(top_features)\n",
        "\n",
        "anova_scores = pd.Series(anova_selector.scores_, index=X_train.columns)\n",
        "anova_scores = anova_scores.sort_values(ascending=False)\n",
        "print(anova_scores.head(10))"
      ],
      "metadata": {
        "id": "yv1bjftbzVgj",
        "colab": {
          "base_uri": "https://localhost:8080/"
        },
        "outputId": "7ff4414e-757e-4016-a24c-b6bb030ebdd2"
      },
      "execution_count": 24,
      "outputs": [
        {
          "output_type": "stream",
          "name": "stdout",
          "text": [
            "Index(['Pclass', 'Fare', 'Sex_male', 'Ticket_113760', 'Ticket_24160',\n",
            "       'Ticket_2666', 'Ticket_29106', 'Cabin_B96 B98', 'Cabin_E101',\n",
            "       'Embarked_S'],\n",
            "      dtype='object')\n",
            "Sex_male         260.604149\n",
            "Pclass            78.681039\n",
            "Fare              34.103369\n",
            "Embarked_S        16.376839\n",
            "Cabin_B96 B98      4.767074\n",
            "Ticket_113760      4.767074\n",
            "Ticket_29106       4.767074\n",
            "Ticket_2666        4.767074\n",
            "Ticket_24160       4.767074\n",
            "Cabin_E101         4.767074\n",
            "dtype: float64\n"
          ]
        },
        {
          "output_type": "stream",
          "name": "stderr",
          "text": [
            "/usr/local/lib/python3.11/dist-packages/sklearn/feature_selection/_univariate_selection.py:111: UserWarning: Features [   7    8   12   17   18   30   32   37   43   47   50   54   55   57\n",
            "   58   66   67   69   73   76   80   87   90   91   94  102  104  109\n",
            "  112  114  115  120  124  130  135  138  139  149  152  163  165  168\n",
            "  171  175  183  185  187  195  196  197  198  207  211  213  216  225\n",
            "  226  228  237  238  242  247  253  254  257  265  272  273  274  278\n",
            "  281  284  289  292  305  306  308  311  313  314  319  320  323  324\n",
            "  327  331  336  339  341  342  344  345  346  349  350  352  353  354\n",
            "  357  358  361  362  365  369  375  376  388  403  408  409  410  413\n",
            "  414  417  422  423  428  437  439  440  442  443  449  452  453  454\n",
            "  455  456  465  467  473  475  476  477  492  495  496  499  509  512\n",
            "  513  518  523  525  527  529  532  535  538  539  540  545  546  547\n",
            "  548  551  555  558  559  560  565  567  568  573  576  580  584  587\n",
            "  591  592  594  602  613  617  622  625  632  634  636  637  638  642\n",
            "  646  651  655  657  660  662  663  670  674  676  682  683  686  697\n",
            "  702  706  710  711  715  716  717  718  719  731  732  735  740  744\n",
            "  746  752  754  755  756  758  761  762  763  765  771  772  773  778\n",
            "  780  781  782  783  784  786  787  789  791  792  795  803  804  806\n",
            "  808  812  816  820  822  823  824  826  830  833  838  839  843  844\n",
            "  845  846  849  851  854  855  857  864  870  873  876  877  878  880\n",
            "  885  888  910  911  912  914  916  925  927  940  941  944  957  958\n",
            "  965  966  970  973  975  978  983  990  993  994  998 1004 1014 1019\n",
            " 1023 1026 1029 1032 1034 1036 1050 1051 1055 1063 1069 1070 1071 1077\n",
            " 1079 1081 1086 1087 1091 1093 1094 1095 1096 1099 1101 1104 1110 1121\n",
            " 1128 1130 1137 1138 1139 1144 1149 1153 1154 1157 1162 1169 1171 1175\n",
            " 1177 1190 1197 1202 1208 1211 1218 1219 1220 1223 1228 1230 1238 1241\n",
            " 1243 1244 1248 1250 1251 1254 1257 1259 1264 1267 1269 1270 1272 1274\n",
            " 1277 1285 1286 1294 1303 1306 1308 1309 1314 1322 1327 1329 1333 1335\n",
            " 1336 1339 1346 1347 1348 1353 1356 1362 1369 1374 1381 1385 1386 1387\n",
            " 1388 1397 1399 1401 1403 1404 1405 1406 1407 1410 1414 1417 1420 1423\n",
            " 1426 1427 1429 1439 1443 1446 1456 1461 1465 1468 1469 1492 1494 1495\n",
            " 1497 1498 1508 1513 1516 1518 1520 1521 1523 1525 1532 1538 1539 1541\n",
            " 1544 1545 1561 1564 1565 1583 1592 1599 1601 1605 1606 1609 1611 1613\n",
            " 1614 1617 1622 1627 1644 1648 1649 1652 1656 1657 1659 1667 1681 1685\n",
            " 1690 1700 1711 1716] are constant.\n",
            "  warnings.warn(\"Features %s are constant.\" % constant_features_idx, UserWarning)\n",
            "/usr/local/lib/python3.11/dist-packages/sklearn/feature_selection/_univariate_selection.py:112: RuntimeWarning: invalid value encountered in divide\n",
            "  f = msb / msw\n"
          ]
        }
      ]
    },
    {
      "cell_type": "code",
      "source": [
        "import pandas as pd\n",
        "df1=pd.read_csv(\"Santander Customer Satisfaction_train.csv\")\n",
        "print(df1)"
      ],
      "metadata": {
        "colab": {
          "base_uri": "https://localhost:8080/"
        },
        "id": "DgI7uXPhYZKu",
        "outputId": "1bdcfb96-4a18-400a-bdfc-22425e58ae74"
      },
      "execution_count": 36,
      "outputs": [
        {
          "output_type": "stream",
          "name": "stdout",
          "text": [
            "           ID  var3  var15  imp_ent_var16_ult1  imp_op_var39_comer_ult1  \\\n",
            "0           1     2     23                 0.0                      0.0   \n",
            "1           3     2     34                 0.0                      0.0   \n",
            "2           4     2     23                 0.0                      0.0   \n",
            "3           8     2     37                 0.0                    195.0   \n",
            "4          10     2     39                 0.0                      0.0   \n",
            "...       ...   ...    ...                 ...                      ...   \n",
            "76015  151829     2     48                 0.0                      0.0   \n",
            "76016  151830     2     39                 0.0                      0.0   \n",
            "76017  151835     2     23                 0.0                      0.0   \n",
            "76018  151836     2     25                 0.0                      0.0   \n",
            "76019  151838     2     46                 0.0                      0.0   \n",
            "\n",
            "       imp_op_var39_comer_ult3  imp_op_var40_comer_ult1  \\\n",
            "0                          0.0                      0.0   \n",
            "1                          0.0                      0.0   \n",
            "2                          0.0                      0.0   \n",
            "3                        195.0                      0.0   \n",
            "4                          0.0                      0.0   \n",
            "...                        ...                      ...   \n",
            "76015                      0.0                      0.0   \n",
            "76016                      0.0                      0.0   \n",
            "76017                      0.0                      0.0   \n",
            "76018                      0.0                      0.0   \n",
            "76019                      0.0                      0.0   \n",
            "\n",
            "       imp_op_var40_comer_ult3  imp_op_var40_efect_ult1  \\\n",
            "0                          0.0                      0.0   \n",
            "1                          0.0                      0.0   \n",
            "2                          0.0                      0.0   \n",
            "3                          0.0                      0.0   \n",
            "4                          0.0                      0.0   \n",
            "...                        ...                      ...   \n",
            "76015                      0.0                      0.0   \n",
            "76016                      0.0                      0.0   \n",
            "76017                      0.0                      0.0   \n",
            "76018                      0.0                      0.0   \n",
            "76019                      0.0                      0.0   \n",
            "\n",
            "       imp_op_var40_efect_ult3  ...  saldo_medio_var33_hace2  \\\n",
            "0                          0.0  ...                      0.0   \n",
            "1                          0.0  ...                      0.0   \n",
            "2                          0.0  ...                      0.0   \n",
            "3                          0.0  ...                      0.0   \n",
            "4                          0.0  ...                      0.0   \n",
            "...                        ...  ...                      ...   \n",
            "76015                      0.0  ...                      0.0   \n",
            "76016                      0.0  ...                      0.0   \n",
            "76017                      0.0  ...                      0.0   \n",
            "76018                      0.0  ...                      0.0   \n",
            "76019                      0.0  ...                      0.0   \n",
            "\n",
            "       saldo_medio_var33_hace3  saldo_medio_var33_ult1  \\\n",
            "0                          0.0                     0.0   \n",
            "1                          0.0                     0.0   \n",
            "2                          0.0                     0.0   \n",
            "3                          0.0                     0.0   \n",
            "4                          0.0                     0.0   \n",
            "...                        ...                     ...   \n",
            "76015                      0.0                     0.0   \n",
            "76016                      0.0                     0.0   \n",
            "76017                      0.0                     0.0   \n",
            "76018                      0.0                     0.0   \n",
            "76019                      0.0                     0.0   \n",
            "\n",
            "       saldo_medio_var33_ult3  saldo_medio_var44_hace2  \\\n",
            "0                         0.0                      0.0   \n",
            "1                         0.0                      0.0   \n",
            "2                         0.0                      0.0   \n",
            "3                         0.0                      0.0   \n",
            "4                         0.0                      0.0   \n",
            "...                       ...                      ...   \n",
            "76015                     0.0                      0.0   \n",
            "76016                     0.0                      0.0   \n",
            "76017                     0.0                      0.0   \n",
            "76018                     0.0                      0.0   \n",
            "76019                     0.0                      0.0   \n",
            "\n",
            "       saldo_medio_var44_hace3  saldo_medio_var44_ult1  \\\n",
            "0                          0.0                     0.0   \n",
            "1                          0.0                     0.0   \n",
            "2                          0.0                     0.0   \n",
            "3                          0.0                     0.0   \n",
            "4                          0.0                     0.0   \n",
            "...                        ...                     ...   \n",
            "76015                      0.0                     0.0   \n",
            "76016                      0.0                     0.0   \n",
            "76017                      0.0                     0.0   \n",
            "76018                      0.0                     0.0   \n",
            "76019                      0.0                     0.0   \n",
            "\n",
            "       saldo_medio_var44_ult3          var38  TARGET  \n",
            "0                         0.0   39205.170000       0  \n",
            "1                         0.0   49278.030000       0  \n",
            "2                         0.0   67333.770000       0  \n",
            "3                         0.0   64007.970000       0  \n",
            "4                         0.0  117310.979016       0  \n",
            "...                       ...            ...     ...  \n",
            "76015                     0.0   60926.490000       0  \n",
            "76016                     0.0  118634.520000       0  \n",
            "76017                     0.0   74028.150000       0  \n",
            "76018                     0.0   84278.160000       0  \n",
            "76019                     0.0  117310.979016       0  \n",
            "\n",
            "[76020 rows x 371 columns]\n"
          ]
        }
      ]
    },
    {
      "cell_type": "code",
      "source": [
        "#CONSTANT FEATURES\n",
        "from sklearn.model_selection import train_test_split\n",
        "[col for col in df1.columns if df1[col].isnull().sum()>0]\n",
        "X=df1.drop('TARGET',axis=1)\n",
        "X=pd.get_dummies(X,drop_first=True)\n",
        "y=df1['TARGET']\n",
        "X_train,X_test,y_train,y_test=train_test_split(X,y,test_size=0.2,random_state=0)\n",
        "constant_features=[features for features in X_train.columns if X_train[features].std()==0]\n",
        "print(len(constant_features))\n",
        "X_train.drop(columns=constant_features, inplace=True)\n",
        "X_test.drop(columns=constant_features, inplace=True)"
      ],
      "metadata": {
        "colab": {
          "base_uri": "https://localhost:8080/"
        },
        "id": "0bBFg3JcYp-_",
        "outputId": "e9782093-0d78-43c0-c841-e7dee260c0f3"
      },
      "execution_count": 29,
      "outputs": [
        {
          "output_type": "stream",
          "name": "stdout",
          "text": [
            "45\n"
          ]
        }
      ]
    },
    {
      "cell_type": "code",
      "source": [
        "#quasi-constant features\n",
        "X = df1.drop('TARGET', axis=1)\n",
        "y = df1['TARGET']\n",
        "\n",
        "X_train, X_test, y_train, y_test = train_test_split(X, y, test_size=0.3, random_state=0)\n",
        "quasi_constant_features=[]\n",
        "for feature in X_train.columns:\n",
        "  predominant=(X_train[feature].value_counts()/float(len(X_train))).sort_values(ascending=False).values[0]\n",
        "  if(predominant>0.99):\n",
        "    quasi_constant_features.append(feature)\n",
        "print(len(quasi_constant_features))\n",
        "print(quasi_constant_features)\n",
        "X_train.drop(columns=quasi_constant_features, inplace=True)\n",
        "X_test.drop(columns=quasi_constant_features, inplace=True)"
      ],
      "metadata": {
        "colab": {
          "base_uri": "https://localhost:8080/"
        },
        "id": "u5r8CXTeZO0O",
        "outputId": "aab85c91-aa9a-4d28-98ad-90d196d08cdc"
      },
      "execution_count": 31,
      "outputs": [
        {
          "output_type": "stream",
          "name": "stdout",
          "text": [
            "221\n",
            "['imp_op_var40_comer_ult1', 'imp_op_var40_comer_ult3', 'imp_op_var40_efect_ult1', 'imp_op_var40_efect_ult3', 'imp_op_var40_ult1', 'imp_sal_var16_ult1', 'ind_var1', 'ind_var2_0', 'ind_var2', 'ind_var6_0', 'ind_var6', 'ind_var13_largo', 'ind_var13_medio_0', 'ind_var13_medio', 'ind_var14', 'ind_var17_0', 'ind_var17', 'ind_var18_0', 'ind_var18', 'ind_var19', 'ind_var20_0', 'ind_var20', 'ind_var27_0', 'ind_var28_0', 'ind_var28', 'ind_var27', 'ind_var29_0', 'ind_var29', 'ind_var30_0', 'ind_var31_0', 'ind_var31', 'ind_var32_cte', 'ind_var32_0', 'ind_var32', 'ind_var33_0', 'ind_var33', 'ind_var34_0', 'ind_var34', 'ind_var40', 'ind_var41', 'ind_var39', 'ind_var44_0', 'ind_var44', 'ind_var46_0', 'ind_var46', 'num_var1', 'num_var6_0', 'num_var6', 'num_var13_largo', 'num_var13_medio_0', 'num_var13_medio', 'num_var14', 'num_var17_0', 'num_var17', 'num_var18_0', 'num_var18', 'num_var20_0', 'num_var20', 'num_op_var40_hace2', 'num_op_var40_hace3', 'num_op_var40_ult1', 'num_op_var40_ult3', 'num_var27_0', 'num_var28_0', 'num_var28', 'num_var27', 'num_var29_0', 'num_var29', 'num_var31_0', 'num_var31', 'num_var32_0', 'num_var32', 'num_var33_0', 'num_var33', 'num_var34_0', 'num_var34', 'num_var40', 'num_var41', 'num_var39', 'num_var44_0', 'num_var44', 'num_var46_0', 'num_var46', 'saldo_var1', 'saldo_var6', 'saldo_var13_largo', 'saldo_var13_medio', 'saldo_var14', 'saldo_var17', 'saldo_var18', 'saldo_var20', 'saldo_var28', 'saldo_var27', 'saldo_var29', 'saldo_var31', 'saldo_var32', 'saldo_var33', 'saldo_var34', 'saldo_var40', 'saldo_var41', 'saldo_var44', 'saldo_var46', 'delta_imp_amort_var18_1y3', 'delta_imp_amort_var34_1y3', 'delta_imp_aport_var17_1y3', 'delta_imp_aport_var33_1y3', 'delta_imp_compra_var44_1y3', 'delta_imp_reemb_var13_1y3', 'delta_imp_reemb_var17_1y3', 'delta_imp_reemb_var33_1y3', 'delta_imp_trasp_var17_in_1y3', 'delta_imp_trasp_var17_out_1y3', 'delta_imp_trasp_var33_in_1y3', 'delta_imp_trasp_var33_out_1y3', 'delta_imp_venta_var44_1y3', 'delta_num_aport_var17_1y3', 'delta_num_aport_var33_1y3', 'delta_num_compra_var44_1y3', 'delta_num_reemb_var13_1y3', 'delta_num_reemb_var17_1y3', 'delta_num_reemb_var33_1y3', 'delta_num_trasp_var17_in_1y3', 'delta_num_trasp_var17_out_1y3', 'delta_num_trasp_var33_in_1y3', 'delta_num_trasp_var33_out_1y3', 'delta_num_venta_var44_1y3', 'imp_amort_var18_hace3', 'imp_amort_var18_ult1', 'imp_amort_var34_hace3', 'imp_amort_var34_ult1', 'imp_aport_var13_ult1', 'imp_aport_var17_hace3', 'imp_aport_var17_ult1', 'imp_aport_var33_hace3', 'imp_aport_var33_ult1', 'imp_var7_emit_ult1', 'imp_var7_recib_ult1', 'imp_compra_var44_hace3', 'imp_compra_var44_ult1', 'imp_reemb_var13_hace3', 'imp_reemb_var13_ult1', 'imp_reemb_var17_hace3', 'imp_reemb_var17_ult1', 'imp_reemb_var33_hace3', 'imp_reemb_var33_ult1', 'imp_trasp_var17_in_hace3', 'imp_trasp_var17_in_ult1', 'imp_trasp_var17_out_hace3', 'imp_trasp_var17_out_ult1', 'imp_trasp_var33_in_hace3', 'imp_trasp_var33_in_ult1', 'imp_trasp_var33_out_hace3', 'imp_trasp_var33_out_ult1', 'imp_venta_var44_hace3', 'imp_venta_var44_ult1', 'ind_var7_emit_ult1', 'ind_var7_recib_ult1', 'num_var2_0_ult1', 'num_var2_ult1', 'num_aport_var13_ult1', 'num_aport_var17_hace3', 'num_aport_var17_ult1', 'num_aport_var33_hace3', 'num_aport_var33_ult1', 'num_var7_emit_ult1', 'num_var7_recib_ult1', 'num_compra_var44_hace3', 'num_compra_var44_ult1', 'num_meses_var13_largo_ult3', 'num_meses_var13_medio_ult3', 'num_meses_var17_ult3', 'num_meses_var29_ult3', 'num_meses_var33_ult3', 'num_meses_var44_ult3', 'num_op_var40_comer_ult1', 'num_op_var40_comer_ult3', 'num_op_var40_efect_ult1', 'num_op_var40_efect_ult3', 'num_reemb_var13_hace3', 'num_reemb_var13_ult1', 'num_reemb_var17_hace3', 'num_reemb_var17_ult1', 'num_reemb_var33_hace3', 'num_reemb_var33_ult1', 'num_sal_var16_ult1', 'num_trasp_var17_in_hace3', 'num_trasp_var17_in_ult1', 'num_trasp_var17_out_hace3', 'num_trasp_var17_out_ult1', 'num_trasp_var33_in_hace3', 'num_trasp_var33_in_ult1', 'num_trasp_var33_out_hace3', 'num_trasp_var33_out_ult1', 'num_venta_var44_hace3', 'num_venta_var44_ult1', 'saldo_var2_ult1', 'saldo_medio_var8_hace3', 'saldo_medio_var13_largo_hace2', 'saldo_medio_var13_largo_hace3', 'saldo_medio_var13_largo_ult1', 'saldo_medio_var13_largo_ult3', 'saldo_medio_var13_medio_hace2', 'saldo_medio_var13_medio_hace3', 'saldo_medio_var13_medio_ult1', 'saldo_medio_var13_medio_ult3', 'saldo_medio_var17_hace2', 'saldo_medio_var17_hace3', 'saldo_medio_var17_ult1', 'saldo_medio_var17_ult3', 'saldo_medio_var29_hace2', 'saldo_medio_var29_hace3', 'saldo_medio_var29_ult1', 'saldo_medio_var29_ult3', 'saldo_medio_var33_hace2', 'saldo_medio_var33_hace3', 'saldo_medio_var33_ult1', 'saldo_medio_var33_ult3', 'saldo_medio_var44_hace2', 'saldo_medio_var44_hace3', 'saldo_medio_var44_ult1', 'saldo_medio_var44_ult3']\n"
          ]
        }
      ]
    },
    {
      "cell_type": "code",
      "source": [
        "#duplicated features\n",
        "dup=[]\n",
        "for i in range(0,len(X_train.columns)):\n",
        "  col1=X_train.columns[i]\n",
        "  for col2 in X_train.columns[i+1:]:\n",
        "    if(X_train[col1].equals(X_train[col2])):\n",
        "      dup.append(col2)\n",
        "print(len(dup))\n",
        "print(dup)\n",
        "X_train.drop(columns=dup, inplace=True)\n",
        "X_test.drop(columns=dup, inplace=True)"
      ],
      "metadata": {
        "colab": {
          "base_uri": "https://localhost:8080/"
        },
        "id": "A3zLWaTSZbr8",
        "outputId": "04b623cd-32c6-4ac1-bc6c-d955b534c6a9"
      },
      "execution_count": 32,
      "outputs": [
        {
          "output_type": "stream",
          "name": "stdout",
          "text": [
            "6\n",
            "['ind_var26', 'ind_var25', 'ind_var37', 'num_var26', 'num_var25', 'num_var37']\n"
          ]
        }
      ]
    },
    {
      "cell_type": "code",
      "source": [
        "# Correlation\n",
        "grouped_feature_ls = []\n",
        "correlated_groups = []\n",
        "\n",
        "def correlation(dataset, threshold):\n",
        "    col_corr = set()\n",
        "    numeric_df = dataset.select_dtypes(include=['number'])\n",
        "    col_matrix = numeric_df.corr()\n",
        "    for i in range(len(col_matrix.columns)):\n",
        "        for j in range(i):\n",
        "            if abs(col_matrix.iloc[i, j]) > threshold:\n",
        "                colname = col_matrix.columns[i]\n",
        "                col_corr.add(colname)\n",
        "    return col_corr\n",
        "\n",
        "corr_features = correlation(df1, 0.9)\n",
        "corr_final = set(corr_features)\n",
        "print(len(corr_final))\n",
        "\n",
        "X_train.drop(columns=corr_final, inplace=True, errors='ignore')\n",
        "X_test.drop(columns=corr_final, inplace=True, errors='ignore')\n"
      ],
      "metadata": {
        "colab": {
          "base_uri": "https://localhost:8080/"
        },
        "id": "WkVEi-uTZrGa",
        "outputId": "668a5e60-9248-4e80-b89f-593576b914c6"
      },
      "execution_count": 34,
      "outputs": [
        {
          "output_type": "stream",
          "name": "stdout",
          "text": [
            "167\n"
          ]
        }
      ]
    },
    {
      "cell_type": "code",
      "source": [
        "#Mutual Information\n",
        "from sklearn.feature_selection import mutual_info_classif, SelectKBest\n",
        "from sklearn.model_selection import train_test_split\n",
        "import pandas as pd\n",
        "\n",
        "df1 = df1.dropna(subset=['TARGET'])\n",
        "X = df1.drop('TARGET', axis=1)\n",
        "X = pd.get_dummies(X, drop_first=True)\n",
        "y = df1['TARGET']\n",
        "\n",
        "X_train, X_test, y_train, y_test = train_test_split(X, y, test_size=0.3, random_state=0)\n",
        "\n",
        "mi_scores = mutual_info_classif(X.fillna(0), y)\n",
        "mi_scores = pd.Series(mi_scores, index=X.columns)\n",
        "mi_scores = mi_scores.sort_values(ascending=False)\n",
        "print(\"Mutual Information Scores:\\n\", mi_scores)\n",
        "\n",
        "X_train_encoded = pd.get_dummies(X_train, drop_first=True).fillna(0)\n",
        "sel_ = SelectKBest(mutual_info_classif, k=10).fit(X_train_encoded, y_train)\n",
        "\n",
        "top_features = X_train_encoded.columns[sel_.get_support()]\n",
        "print(\"\\nTop 10 Features:\\n\", top_features)\n"
      ],
      "metadata": {
        "colab": {
          "base_uri": "https://localhost:8080/"
        },
        "id": "OT82VGXJZ_bM",
        "outputId": "485d5412-7e7a-4579-9bed-e1753e12f8ba"
      },
      "execution_count": 37,
      "outputs": [
        {
          "output_type": "stream",
          "name": "stdout",
          "text": [
            "Mutual Information Scores:\n",
            " ind_var30              0.024166\n",
            "num_var42              0.023692\n",
            "ind_var5               0.023690\n",
            "num_var5               0.022716\n",
            "num_meses_var5_ult3    0.020199\n",
            "                         ...   \n",
            "saldo_var2_ult1        0.000000\n",
            "ind_var1               0.000000\n",
            "imp_sal_var16_ult1     0.000000\n",
            "ind_var8               0.000000\n",
            "var3                   0.000000\n",
            "Length: 370, dtype: float64\n",
            "\n",
            "Top 10 Features:\n",
            " Index(['var15', 'ind_var5', 'ind_var30', 'num_var4', 'num_var5', 'num_var30',\n",
            "       'num_var35', 'num_var42', 'saldo_var30', 'num_meses_var5_ult3'],\n",
            "      dtype='object')\n"
          ]
        }
      ]
    },
    {
      "cell_type": "code",
      "source": [
        "#CHI SQUARE TEst\n",
        "from scipy.stats import chi2_contingency\n",
        "result=[]\n",
        "for feature in X_train.columns:\n",
        "  crosstab=pd.crosstab(X_train[feature],df1['TARGET'])\n",
        "  chi2_stat,p_val,dof,expected=chi2_contingency(crosstab)\n",
        "  if p_val<0.05:\n",
        "    result.append(feature)\n",
        "print(result)\n",
        "X_train.drop(columns=feature, inplace=True)\n",
        "X_test.drop(columns=feature, inplace=True)"
      ],
      "metadata": {
        "colab": {
          "base_uri": "https://localhost:8080/"
        },
        "id": "zA-JuwaNcenF",
        "outputId": "2b6958ea-a701-4f90-e692-79d2aaaeacc2"
      },
      "execution_count": 39,
      "outputs": [
        {
          "output_type": "stream",
          "name": "stdout",
          "text": [
            "['var15', 'imp_ent_var16_ult1', 'imp_op_var40_comer_ult1', 'imp_op_var40_comer_ult3', 'imp_op_var40_efect_ult1', 'imp_op_var40_efect_ult3', 'imp_op_var40_ult1', 'imp_op_var41_efect_ult1', 'imp_op_var41_efect_ult3', 'imp_op_var39_efect_ult1', 'imp_op_var39_efect_ult3', 'imp_sal_var16_ult1', 'ind_var1', 'ind_var5_0', 'ind_var5', 'ind_var8_0', 'ind_var8', 'ind_var12_0', 'ind_var12', 'ind_var13_0', 'ind_var13_corto_0', 'ind_var13_corto', 'ind_var13_largo_0', 'ind_var13_largo', 'ind_var13', 'ind_var14_0', 'ind_var20_0', 'ind_var20', 'ind_var24_0', 'ind_var24', 'ind_var25_cte', 'ind_var26_0', 'ind_var26_cte', 'ind_var26', 'ind_var25_0', 'ind_var25', 'ind_var30_0', 'ind_var30', 'ind_var31_0', 'ind_var39_0', 'ind_var40', 'ind_var41_0', 'ind_var39', 'num_var1_0', 'num_var1', 'num_var4', 'num_var5_0', 'num_var5', 'num_var8_0', 'num_var8', 'num_var12_0', 'num_var12', 'num_var13_0', 'num_var13_corto_0', 'num_var13_corto', 'num_var13_largo_0', 'num_var13_largo', 'num_var13', 'num_var14_0', 'num_var20_0', 'num_var20', 'num_var24_0', 'num_var24', 'num_var26_0', 'num_var26', 'num_var25_0', 'num_var25', 'num_op_var40_ult1', 'num_op_var41_hace2', 'num_op_var41_ult1', 'num_op_var41_ult3', 'num_op_var39_hace2', 'num_op_var39_ult1', 'num_op_var39_ult3', 'num_var30_0', 'num_var30', 'num_var35', 'num_var37_med_ult2', 'num_var39_0', 'num_var40_0', 'num_var40', 'num_var41_0', 'num_var39', 'num_var42_0', 'num_var42', 'saldo_var1', 'saldo_var8', 'saldo_var26', 'saldo_var25', 'saldo_var40', 'var36', 'delta_imp_aport_var13_1y3', 'delta_num_aport_var13_1y3', 'ind_var43_recib_ult1', 'var21', 'num_aport_var13_hace3', 'num_var22_hace2', 'num_var22_ult1', 'num_var22_ult3', 'num_med_var22_ult3', 'num_med_var45_ult3', 'num_meses_var5_ult3', 'num_meses_var8_ult3', 'num_meses_var12_ult3', 'num_meses_var13_corto_ult3', 'num_meses_var13_largo_ult3', 'num_meses_var39_vig_ult3', 'num_op_var39_comer_ult1', 'num_op_var40_efect_ult1', 'num_op_var40_efect_ult3', 'num_op_var41_comer_ult1', 'num_op_var41_efect_ult1', 'num_op_var41_efect_ult3', 'num_op_var39_efect_ult1', 'num_op_var39_efect_ult3', 'num_var45_hace2', 'num_var45_hace3', 'num_var45_ult1', 'num_var45_ult3', 'saldo_medio_var8_hace2', 'saldo_medio_var8_hace3', 'saldo_medio_var8_ult1', 'saldo_medio_var8_ult3']\n"
          ]
        }
      ]
    },
    {
      "cell_type": "code",
      "source": [
        "#Anova\n",
        "from sklearn.feature_selection import f_classif, SelectKBest\n",
        "anova_selector = SelectKBest(score_func=f_classif, k=10)\n",
        "anova_selector.fit(X_train, y_train)\n",
        "\n",
        "top_features = X_train.columns[anova_selector.get_support()]\n",
        "print(top_features)\n",
        "\n",
        "anova_scores = pd.Series(anova_selector.scores_, index=X_train.columns)\n",
        "anova_scores = anova_scores.sort_values(ascending=False)\n",
        "print(anova_scores.head(10))"
      ],
      "metadata": {
        "colab": {
          "base_uri": "https://localhost:8080/"
        },
        "id": "Og9Nn7xQcnA2",
        "outputId": "0886ba9c-052e-4774-b8ac-884851b4b292"
      },
      "execution_count": 40,
      "outputs": [
        {
          "output_type": "stream",
          "name": "stdout",
          "text": [
            "Index(['var15', 'ind_var5', 'ind_var30', 'num_var4', 'num_var5', 'num_var30',\n",
            "       'num_var35', 'num_var42', 'var36', 'num_meses_var5_ult3'],\n",
            "      dtype='object')\n",
            "ind_var30              1222.207834\n",
            "num_meses_var5_ult3    1210.731887\n",
            "num_var30              1034.855021\n",
            "num_var42              1009.736099\n",
            "ind_var5                989.209073\n",
            "num_var5                973.738653\n",
            "var36                   569.598871\n",
            "var15                   536.818837\n",
            "num_var4                355.936560\n",
            "num_var35               329.760158\n",
            "dtype: float64\n"
          ]
        },
        {
          "output_type": "stream",
          "name": "stderr",
          "text": [
            "/usr/local/lib/python3.11/dist-packages/sklearn/feature_selection/_univariate_selection.py:111: UserWarning: Features [ 22  23  57  58  59  60  81  85  86 132 133 134 135 156 162 163 180 181\n",
            " 190 193 203 215 221 223 235 239 240 245 249 262 263 304 308 309 316 320\n",
            " 328 350] are constant.\n",
            "  warnings.warn(\"Features %s are constant.\" % constant_features_idx, UserWarning)\n",
            "/usr/local/lib/python3.11/dist-packages/sklearn/feature_selection/_univariate_selection.py:112: RuntimeWarning: invalid value encountered in divide\n",
            "  f = msb / msw\n"
          ]
        }
      ]
    },
    {
      "cell_type": "code",
      "source": [
        "import pandas as pd\n",
        "df3=pd.read_csv(\"house_price_train.csv\")\n",
        "print(df3)"
      ],
      "metadata": {
        "colab": {
          "base_uri": "https://localhost:8080/"
        },
        "id": "NL2aice0coNd",
        "outputId": "3ba9cf0b-ae5b-4e0e-f37d-49dd0c13e163"
      },
      "execution_count": 41,
      "outputs": [
        {
          "output_type": "stream",
          "name": "stdout",
          "text": [
            "        Id  MSSubClass MSZoning  LotFrontage  LotArea Street Alley LotShape  \\\n",
            "0        1          60       RL         65.0     8450   Pave   NaN      Reg   \n",
            "1        2          20       RL         80.0     9600   Pave   NaN      Reg   \n",
            "2        3          60       RL         68.0    11250   Pave   NaN      IR1   \n",
            "3        4          70       RL         60.0     9550   Pave   NaN      IR1   \n",
            "4        5          60       RL         84.0    14260   Pave   NaN      IR1   \n",
            "...    ...         ...      ...          ...      ...    ...   ...      ...   \n",
            "1455  1456          60       RL         62.0     7917   Pave   NaN      Reg   \n",
            "1456  1457          20       RL         85.0    13175   Pave   NaN      Reg   \n",
            "1457  1458          70       RL         66.0     9042   Pave   NaN      Reg   \n",
            "1458  1459          20       RL         68.0     9717   Pave   NaN      Reg   \n",
            "1459  1460          20       RL         75.0     9937   Pave   NaN      Reg   \n",
            "\n",
            "     LandContour Utilities  ... PoolArea PoolQC  Fence MiscFeature MiscVal  \\\n",
            "0            Lvl    AllPub  ...        0    NaN    NaN         NaN       0   \n",
            "1            Lvl    AllPub  ...        0    NaN    NaN         NaN       0   \n",
            "2            Lvl    AllPub  ...        0    NaN    NaN         NaN       0   \n",
            "3            Lvl    AllPub  ...        0    NaN    NaN         NaN       0   \n",
            "4            Lvl    AllPub  ...        0    NaN    NaN         NaN       0   \n",
            "...          ...       ...  ...      ...    ...    ...         ...     ...   \n",
            "1455         Lvl    AllPub  ...        0    NaN    NaN         NaN       0   \n",
            "1456         Lvl    AllPub  ...        0    NaN  MnPrv         NaN       0   \n",
            "1457         Lvl    AllPub  ...        0    NaN  GdPrv        Shed    2500   \n",
            "1458         Lvl    AllPub  ...        0    NaN    NaN         NaN       0   \n",
            "1459         Lvl    AllPub  ...        0    NaN    NaN         NaN       0   \n",
            "\n",
            "     MoSold YrSold  SaleType  SaleCondition  SalePrice  \n",
            "0         2   2008        WD         Normal     208500  \n",
            "1         5   2007        WD         Normal     181500  \n",
            "2         9   2008        WD         Normal     223500  \n",
            "3         2   2006        WD        Abnorml     140000  \n",
            "4        12   2008        WD         Normal     250000  \n",
            "...     ...    ...       ...            ...        ...  \n",
            "1455      8   2007        WD         Normal     175000  \n",
            "1456      2   2010        WD         Normal     210000  \n",
            "1457      5   2010        WD         Normal     266500  \n",
            "1458      4   2010        WD         Normal     142125  \n",
            "1459      6   2008        WD         Normal     147500  \n",
            "\n",
            "[1460 rows x 81 columns]\n"
          ]
        }
      ]
    },
    {
      "cell_type": "code",
      "source": [
        "#CONSTANT FEATURES\n",
        "from sklearn.model_selection import train_test_split\n",
        "[col for col in df3.columns if df3[col].isnull().sum()>0]\n",
        "X=df3.drop('SalePrice',axis=1)\n",
        "X=pd.get_dummies(X,drop_first=True)\n",
        "y=df3['SalePrice']\n",
        "X_train,X_test,y_train,y_test=train_test_split(X,y,test_size=0.2,random_state=0)\n",
        "constant_features=[features for features in X_train.columns if X_train[features].std()==0]\n",
        "print(len(constant_features))\n",
        "X_train.drop(columns=constant_features, inplace=True)\n",
        "X_test.drop(columns=constant_features, inplace=True)"
      ],
      "metadata": {
        "colab": {
          "base_uri": "https://localhost:8080/"
        },
        "id": "hY5s9ey_dXHQ",
        "outputId": "09fc058e-0e06-4221-8e14-f390437c4ac7"
      },
      "execution_count": 42,
      "outputs": [
        {
          "output_type": "stream",
          "name": "stdout",
          "text": [
            "4\n"
          ]
        }
      ]
    },
    {
      "cell_type": "code",
      "source": [
        "#quasi-constant features\n",
        "X = df3.drop('SalePrice', axis=1)\n",
        "y = df3['SalePrice']\n",
        "\n",
        "X_train, X_test, y_train, y_test = train_test_split(X, y, test_size=0.3, random_state=0)\n",
        "quasi_constant_features=[]\n",
        "for feature in X_train.columns:\n",
        "  predominant=(X_train[feature].value_counts()/float(len(X_train))).sort_values(ascending=False).values[0]\n",
        "  if(predominant>0.99):\n",
        "    quasi_constant_features.append(feature)\n",
        "print(len(quasi_constant_features))\n",
        "print(quasi_constant_features)\n",
        "X_train.drop(columns=quasi_constant_features, inplace=True)\n",
        "X_test.drop(columns=quasi_constant_features, inplace=True)"
      ],
      "metadata": {
        "colab": {
          "base_uri": "https://localhost:8080/"
        },
        "id": "h69veJOWdcIu",
        "outputId": "742b468d-013b-4465-fc0b-9f5adbfe647b"
      },
      "execution_count": 43,
      "outputs": [
        {
          "output_type": "stream",
          "name": "stdout",
          "text": [
            "4\n",
            "['Street', 'Utilities', 'Condition2', 'PoolArea']\n"
          ]
        }
      ]
    },
    {
      "cell_type": "code",
      "source": [
        "#duplicated features\n",
        "dup=[]\n",
        "for i in range(0,len(X_train.columns)):\n",
        "  col1=X_train.columns[i]\n",
        "  for col2 in X_train.columns[i+1:]:\n",
        "    if(X_train[col1].equals(X_train[col2])):\n",
        "      dup.append(col2)\n",
        "print(len(dup))\n",
        "print(dup)\n",
        "X_train.drop(columns=dup, inplace=True)\n",
        "X_test.drop(columns=dup, inplace=True)"
      ],
      "metadata": {
        "colab": {
          "base_uri": "https://localhost:8080/"
        },
        "id": "F2KmCJCcdf5g",
        "outputId": "82f9b1d4-4e40-412d-ee32-d3eb2be238ff"
      },
      "execution_count": 44,
      "outputs": [
        {
          "output_type": "stream",
          "name": "stdout",
          "text": [
            "0\n",
            "[]\n"
          ]
        }
      ]
    },
    {
      "cell_type": "code",
      "source": [
        "# Correlation\n",
        "grouped_feature_ls = []\n",
        "correlated_groups = []\n",
        "\n",
        "def correlation(dataset, threshold):\n",
        "    col_corr = set()\n",
        "    numeric_df = dataset.select_dtypes(include=['number'])\n",
        "    col_matrix = numeric_df.corr()\n",
        "    for i in range(len(col_matrix.columns)):\n",
        "        for j in range(i):\n",
        "            if abs(col_matrix.iloc[i, j]) > threshold:\n",
        "                colname = col_matrix.columns[i]\n",
        "                col_corr.add(colname)\n",
        "    return col_corr\n",
        "\n",
        "corr_features = correlation(df3, 0.9)\n",
        "corr_final = set(corr_features)\n",
        "print(len(corr_final))\n",
        "\n",
        "X_train.drop(columns=corr_final, inplace=True, errors='ignore')\n",
        "X_test.drop(columns=corr_final, inplace=True, errors='ignore')"
      ],
      "metadata": {
        "colab": {
          "base_uri": "https://localhost:8080/"
        },
        "id": "B6Z4zH_vdisu",
        "outputId": "ab6c9901-a4d5-40c8-eeee-e16797023d3a"
      },
      "execution_count": 45,
      "outputs": [
        {
          "output_type": "stream",
          "name": "stdout",
          "text": [
            "0\n"
          ]
        }
      ]
    },
    {
      "cell_type": "code",
      "source": [
        "#Mutual Information\n",
        "from sklearn.feature_selection import mutual_info_classif, SelectKBest\n",
        "from sklearn.model_selection import train_test_split\n",
        "import pandas as pd\n",
        "\n",
        "df3 = df3.dropna(subset=['SalePrice'])\n",
        "X = df3.drop('SalePrice', axis=1)\n",
        "X = pd.get_dummies(X, drop_first=True)\n",
        "y = df3['SalePrice']\n",
        "\n",
        "X_train, X_test, y_train, y_test = train_test_split(X, y, test_size=0.3, random_state=0)\n",
        "\n",
        "mi_scores = mutual_info_classif(X.fillna(0), y)\n",
        "mi_scores = pd.Series(mi_scores, index=X.columns)\n",
        "mi_scores = mi_scores.sort_values(ascending=False)\n",
        "print(\"Mutual Information Scores:\\n\", mi_scores)\n",
        "\n",
        "X_train_encoded = pd.get_dummies(X_train, drop_first=True).fillna(0)\n",
        "sel_ = SelectKBest(mutual_info_classif, k=10).fit(X_train_encoded, y_train)\n",
        "\n",
        "top_features = X_train_encoded.columns[sel_.get_support()]\n",
        "print(\"\\nTop 10 Features:\\n\", top_features)"
      ],
      "metadata": {
        "colab": {
          "base_uri": "https://localhost:8080/"
        },
        "id": "ftDdV-6FfV00",
        "outputId": "fa8d09ff-46a4-453d-d36d-1693a57a38f1"
      },
      "execution_count": 49,
      "outputs": [
        {
          "output_type": "stream",
          "name": "stdout",
          "text": [
            "Mutual Information Scores:\n",
            " RoofMatl_CompShg         3.219640\n",
            "KitchenAbvGr             3.094806\n",
            "Heating_GasA             2.982656\n",
            "Street_Pave              2.977683\n",
            "Condition2_Norm          2.903205\n",
            "                           ...   \n",
            "SaleType_Oth             0.000000\n",
            "SaleCondition_AdjLand    0.000000\n",
            "SaleCondition_Alloca     0.000000\n",
            "SaleCondition_Family     0.000000\n",
            "SaleCondition_Partial    0.000000\n",
            "Length: 245, dtype: float64\n",
            "\n",
            "Top 10 Features:\n",
            " Index(['KitchenAbvGr', 'Street_Pave', 'LandContour_Lvl', 'Condition2_Norm',\n",
            "       'RoofMatl_CompShg', 'Heating_GasA', 'CentralAir_Y', 'GarageCond_TA',\n",
            "       'PavedDrive_Y', 'SaleType_WD'],\n",
            "      dtype='object')\n"
          ]
        }
      ]
    },
    {
      "cell_type": "code",
      "source": [
        "#CHI SQUARE TEst\n",
        "from scipy.stats import chi2_contingency\n",
        "result=[]\n",
        "for feature in X_train.columns:\n",
        "  crosstab=pd.crosstab(X_train[feature],df3['SalePrice'])\n",
        "  chi2_stat,p_val,dof,expected=chi2_contingency(crosstab)\n",
        "  if p_val<0.05:\n",
        "    result.append(feature)\n",
        "print(result)\n",
        "X_train.drop(columns=feature, inplace=True)\n",
        "X_test.drop(columns=feature, inplace=True)"
      ],
      "metadata": {
        "colab": {
          "base_uri": "https://localhost:8080/"
        },
        "id": "T6fYfqe1d37q",
        "outputId": "b1d1efdb-a107-4463-a406-99aef7475ee2"
      },
      "execution_count": 50,
      "outputs": [
        {
          "output_type": "stream",
          "name": "stdout",
          "text": [
            "['LotFrontage', 'LotArea', 'OverallQual', 'OverallCond', 'MasVnrArea', 'BsmtUnfSF', 'TotalBsmtSF', '1stFlrSF', '2ndFlrSF', 'GrLivArea', 'FullBath', 'HalfBath', 'TotRmsAbvGrd', 'GarageCars', 'GarageArea', 'WoodDeckSF', 'OpenPorchSF', 'MSZoning_FV', 'Street_Pave', 'LotShape_IR3', 'LotShape_Reg', 'LandContour_HLS', 'LandSlope_Mod', 'Neighborhood_BrkSide', 'Neighborhood_CollgCr', 'Neighborhood_Crawfor', 'Neighborhood_IDOTRR', 'Neighborhood_MeadowV', 'Neighborhood_NoRidge', 'Neighborhood_NridgHt', 'Neighborhood_Somerst', 'Neighborhood_StoneBr', 'Neighborhood_Timber', 'Neighborhood_Veenker', 'Condition1_PosN', 'Condition2_PosN', 'HouseStyle_2.5Fin', 'HouseStyle_2Story', 'RoofStyle_Gable', 'RoofStyle_Gambrel', 'RoofStyle_Hip', 'RoofMatl_WdShngl', 'Exterior1st_CemntBd', 'Exterior1st_ImStucc', 'Exterior1st_VinylSd', 'Exterior2nd_BrkFace', 'Exterior2nd_CmentBd', 'Exterior2nd_Other', 'Exterior2nd_VinylSd', 'MasVnrType_Stone', 'ExterQual_Gd', 'ExterQual_TA', 'ExterCond_Fa', 'ExterCond_Po', 'Foundation_CBlock', 'Foundation_PConc', 'Foundation_Slab', 'Foundation_Stone', 'BsmtQual_Fa', 'BsmtQual_Gd', 'BsmtQual_TA', 'BsmtCond_Po', 'BsmtExposure_Gd', 'BsmtFinType1_GLQ', 'Heating_Grav', 'CentralAir_Y', 'Electrical_FuseP', 'Electrical_Mix', 'KitchenQual_Fa', 'KitchenQual_Gd', 'KitchenQual_TA', 'Functional_Maj2', 'FireplaceQu_Gd', 'GarageType_Attchd', 'GarageType_BuiltIn', 'GarageType_CarPort', 'GarageFinish_RFn', 'GarageFinish_Unf', 'GarageQual_Gd', 'GarageQual_TA', 'GarageCond_TA', 'PoolQC_Gd', 'SaleType_CWD', 'SaleType_Con', 'SaleType_New', 'SaleType_WD', 'SaleCondition_Alloca', 'SaleCondition_Normal', 'SaleCondition_Partial']\n"
          ]
        }
      ]
    },
    {
      "cell_type": "code",
      "source": [
        "#Anova\n",
        "from sklearn.feature_selection import f_classif, SelectKBest\n",
        "X_train = X_train.fillna(X_train.mean())\n",
        "X_test = X_test.fillna(X_test.mean())\n",
        "anova_selector = SelectKBest(score_func=f_classif, k=10)\n",
        "anova_selector.fit(X_train, y_train)\n",
        "top_features = X_train.columns[anova_selector.get_support()]\n",
        "print(\"\\nTop 10 Features (ANOVA):\\n\", top_features)\n",
        "anova_scores = pd.Series(anova_selector.scores_, index=X_train.columns)\n",
        "anova_scores = anova_scores.sort_values(ascending=False)\n",
        "print(\"\\nANOVA Scores:\\n\", anova_scores.head(10))\n"
      ],
      "metadata": {
        "colab": {
          "base_uri": "https://localhost:8080/"
        },
        "id": "Nk8TYx_0dm4K",
        "outputId": "0f2b5121-9f5c-4e1f-da71-ab045e8d0daa"
      },
      "execution_count": 57,
      "outputs": [
        {
          "output_type": "stream",
          "name": "stdout",
          "text": [
            "\n",
            "Top 10 Features (ANOVA):\n",
            " Index(['LotShape_IR3', 'Condition2_PosN', 'Exterior1st_ImStucc',\n",
            "       'Exterior2nd_Other', 'ExterCond_Po', 'BsmtCond_Po', 'Electrical_Mix',\n",
            "       'Functional_Maj2', 'SaleType_CWD', 'SaleType_Con'],\n",
            "      dtype='object')\n",
            "\n",
            "ANOVA Scores:\n",
            " LotShape_IR3           inf\n",
            "Condition2_PosN        inf\n",
            "BsmtCond_Po            inf\n",
            "Exterior2nd_Other      inf\n",
            "Exterior1st_ImStucc    inf\n",
            "Electrical_Mix         inf\n",
            "Functional_Maj2        inf\n",
            "SaleType_Con           inf\n",
            "SaleType_CWD           inf\n",
            "ExterCond_Po           inf\n",
            "dtype: float64\n"
          ]
        },
        {
          "output_type": "stream",
          "name": "stderr",
          "text": [
            "/usr/local/lib/python3.11/dist-packages/sklearn/feature_selection/_univariate_selection.py:111: UserWarning: Features [ 44  90  91  93  94 112 124 140 154 165 192 197 201 224 231 232 233] are constant.\n",
            "  warnings.warn(\"Features %s are constant.\" % constant_features_idx, UserWarning)\n",
            "/usr/local/lib/python3.11/dist-packages/sklearn/feature_selection/_univariate_selection.py:112: RuntimeWarning: divide by zero encountered in divide\n",
            "  f = msb / msw\n",
            "/usr/local/lib/python3.11/dist-packages/sklearn/feature_selection/_univariate_selection.py:112: RuntimeWarning: invalid value encountered in divide\n",
            "  f = msb / msw\n"
          ]
        }
      ]
    }
  ]
}